{
 "cells": [
  {
   "cell_type": "code",
   "execution_count": 1,
   "metadata": {},
   "outputs": [],
   "source": [
    "import pandas as pd\n",
    "import random\n",
    "from datetime import datetime"
   ]
  },
  {
   "cell_type": "code",
   "execution_count": 2,
   "metadata": {},
   "outputs": [],
   "source": [
    "from IPython.core.display import display, HTML\n",
    "\n",
    "def visualize_text_segment(words, gt, pred=None, bg_color='rgb(255,255,0)', text_color='black', pred_bg_color='rgb(0,0,255)', pred_text_color='red'):\n",
    "    start, end = gt\n",
    "    if pred is not None:\n",
    "        start_, end_ = pred\n",
    "        \n",
    "    gt_tweet = \"\" \n",
    "    pred_tweet = \"\"\n",
    "    for idx, word in enumerate(words):\n",
    "        if idx == start:\n",
    "            gt_tweet += \"<span style='background:{};color:{}'>\".format(bg_color, text_color)\n",
    "        if pred is not None and idx == start_:\n",
    "            pred_tweet += \"<span style='background:{};color:{}'>\".format(pred_bg_color, pred_text_color)\n",
    "        \n",
    "        #html += word + ' '\n",
    "        if word == ' ':\n",
    "            gt_tweet += \"&nbsp;\"\n",
    "            pred_tweet += \"&nbsp;\"\n",
    "        else:\n",
    "            gt_tweet += word\n",
    "            pred_tweet += word\n",
    "        \n",
    "        if pred is not None and idx == end_:\n",
    "            pred_tweet += '</span>'\n",
    "        if idx == end:\n",
    "            gt_tweet += '</span>'            \n",
    "\n",
    "    return HTML(gt_tweet),HTML(pred_tweet)"
   ]
  },
  {
   "cell_type": "code",
   "execution_count": 3,
   "metadata": {},
   "outputs": [
    {
     "name": "stdout",
     "output_type": "stream",
     "text": [
      "gt: Yello 노란색!\n",
      "pred: Blue 파란색!\n",
      "\n",
      "[model_0.csv]\n",
      "[ 836 ] neutral\n"
     ]
    },
    {
     "data": {
      "text/html": [
       "&nbsp;<span style='background:rgb(255,255,0);color:black'>at&nbsp;work&nbsp;then&nbsp;back&nbsp;to&nbsp;my&nbsp;baby`s&nbsp;house"
      ],
      "text/plain": [
       "<IPython.core.display.HTML object>"
      ]
     },
     "metadata": {},
     "output_type": "display_data"
    },
    {
     "data": {
      "text/html": [
       "<span style='background:rgb(0,0,255);color:red'>&nbsp;at&nbsp;work&nbsp;then&nbsp;back&nbsp;to&nbsp;my&nbsp;baby`s&nbsp;house"
      ],
      "text/plain": [
       "<IPython.core.display.HTML object>"
      ]
     },
     "metadata": {},
     "output_type": "display_data"
    },
    {
     "name": "stdout",
     "output_type": "stream",
     "text": [
      "\n",
      "[ 1459 ] neutral\n"
     ]
    },
    {
     "data": {
      "text/html": [
       "&nbsp;<span style='background:rgb(255,255,0);color:black'>kayla&nbsp;&&nbsp;I&nbsp;went&nbsp;to&nbsp;go&nbsp;visit&nbsp;you&nbsp;but&nbsp;they&nbsp;wouldn`t&nbsp;let&nbsp;us&nbsp;in&nbsp;school!"
      ],
      "text/plain": [
       "<IPython.core.display.HTML object>"
      ]
     },
     "metadata": {},
     "output_type": "display_data"
    },
    {
     "data": {
      "text/html": [
       "<span style='background:rgb(0,0,255);color:red'>&nbsp;kayla&nbsp;&&nbsp;I&nbsp;went&nbsp;to&nbsp;go&nbsp;visit&nbsp;you&nbsp;but&nbsp;they&nbsp;wouldn`t&nbsp;let&nbsp;us&nbsp;in&nbsp;school!"
      ],
      "text/plain": [
       "<IPython.core.display.HTML object>"
      ]
     },
     "metadata": {},
     "output_type": "display_data"
    },
    {
     "name": "stdout",
     "output_type": "stream",
     "text": [
      "\n",
      "[ 1408 ] neutral\n"
     ]
    },
    {
     "data": {
      "text/html": [
       "&nbsp;<span style='background:rgb(255,255,0);color:black'>_Bloggerific"
      ],
      "text/plain": [
       "<IPython.core.display.HTML object>"
      ]
     },
     "metadata": {},
     "output_type": "display_data"
    },
    {
     "data": {
      "text/html": [
       "<span style='background:rgb(0,0,255);color:red'>&nbsp;_Bloggerific"
      ],
      "text/plain": [
       "<IPython.core.display.HTML object>"
      ]
     },
     "metadata": {},
     "output_type": "display_data"
    },
    {
     "name": "stdout",
     "output_type": "stream",
     "text": [
      "\n",
      "[ 1641 ] neutral\n"
     ]
    },
    {
     "data": {
      "text/html": [
       "&nbsp;<span style='background:rgb(255,255,0);color:black'>_Sweethearts&nbsp;Im&nbsp;following&nbsp;you&nbsp;but&nbsp;you&nbsp;aren`t&nbsp;on&nbsp;my&nbsp;DM&nbsp;list&nbsp;Can&nbsp;you&nbsp;try&nbsp;to&nbsp;DM&nbsp;me?"
      ],
      "text/plain": [
       "<IPython.core.display.HTML object>"
      ]
     },
     "metadata": {},
     "output_type": "display_data"
    },
    {
     "data": {
      "text/html": [
       "<span style='background:rgb(0,0,255);color:red'>&nbsp;_Sweethearts&nbsp;Im&nbsp;following&nbsp;you&nbsp;but&nbsp;you&nbsp;aren`t&nbsp;on&nbsp;my&nbsp;DM&nbsp;list&nbsp;Can&nbsp;you&nbsp;try&nbsp;to&nbsp;DM&nbsp;me?"
      ],
      "text/plain": [
       "<IPython.core.display.HTML object>"
      ]
     },
     "metadata": {},
     "output_type": "display_data"
    },
    {
     "name": "stdout",
     "output_type": "stream",
     "text": [
      "\n",
      "[ 494 ] neutral\n"
     ]
    },
    {
     "data": {
      "text/html": [
       "&nbsp;<span style='background:rgb(255,255,0);color:black'>Ugh.&nbsp;Going&nbsp;to&nbsp;skool"
      ],
      "text/plain": [
       "<IPython.core.display.HTML object>"
      ]
     },
     "metadata": {},
     "output_type": "display_data"
    },
    {
     "data": {
      "text/html": [
       "<span style='background:rgb(0,0,255);color:red'>&nbsp;Ugh.&nbsp;Going&nbsp;to&nbsp;skool"
      ],
      "text/plain": [
       "<IPython.core.display.HTML object>"
      ]
     },
     "metadata": {},
     "output_type": "display_data"
    },
    {
     "name": "stdout",
     "output_type": "stream",
     "text": [
      "\n",
      "[ 250 ] neutral\n"
     ]
    },
    {
     "data": {
      "text/html": [
       "&nbsp;<span style='background:rgb(255,255,0);color:black'>http://twitpic.com/4uy8l&nbsp;-&nbsp;LOL&nbsp;why&nbsp;are&nbsp;they&nbsp;drumming&nbsp;there?"
      ],
      "text/plain": [
       "<IPython.core.display.HTML object>"
      ]
     },
     "metadata": {},
     "output_type": "display_data"
    },
    {
     "data": {
      "text/html": [
       "<span style='background:rgb(0,0,255);color:red'>&nbsp;http://twitpic.com/4uy8l&nbsp;-&nbsp;LOL&nbsp;why&nbsp;are&nbsp;they&nbsp;drumming&nbsp;there?"
      ],
      "text/plain": [
       "<IPython.core.display.HTML object>"
      ]
     },
     "metadata": {},
     "output_type": "display_data"
    },
    {
     "name": "stdout",
     "output_type": "stream",
     "text": [
      "\n",
      "[ 1313 ] neutral\n"
     ]
    },
    {
     "data": {
      "text/html": [
       "&nbsp;<span style='background:rgb(255,255,0);color:black'>I&nbsp;actually&nbsp;got&nbsp;a&nbsp;bit&nbsp;of&nbsp;a&nbsp;tan&nbsp;today&nbsp;haha&nbsp;sadly&nbsp;will&nbsp;be&nbsp;working&nbsp;all&nbsp;weekend&nbsp;won`t&nbsp;get&nbsp;a&nbsp;chance&nbsp;to&nbsp;enjoy&nbsp;the&nbsp;glorious&nbsp;sunrays&nbsp;boo"
      ],
      "text/plain": [
       "<IPython.core.display.HTML object>"
      ]
     },
     "metadata": {},
     "output_type": "display_data"
    },
    {
     "data": {
      "text/html": [
       "<span style='background:rgb(0,0,255);color:red'>&nbsp;I&nbsp;actually&nbsp;got&nbsp;a&nbsp;bit&nbsp;of&nbsp;a&nbsp;tan&nbsp;today&nbsp;haha&nbsp;sadly&nbsp;will&nbsp;be&nbsp;working&nbsp;all&nbsp;weekend&nbsp;won`t&nbsp;get&nbsp;a&nbsp;chance&nbsp;to&nbsp;enjoy&nbsp;the&nbsp;glorious&nbsp;sunrays&nbsp;boo"
      ],
      "text/plain": [
       "<IPython.core.display.HTML object>"
      ]
     },
     "metadata": {},
     "output_type": "display_data"
    },
    {
     "name": "stdout",
     "output_type": "stream",
     "text": [
      "\n",
      "[ 1839 ] neutral\n"
     ]
    },
    {
     "data": {
      "text/html": [
       "&nbsp;_christie&nbsp;<span style='background:rgb(255,255,0);color:black'>keep&nbsp;the&nbsp;faith&nbsp;it`ll&nbsp;be&nbsp;over&nbsp;soon"
      ],
      "text/plain": [
       "<IPython.core.display.HTML object>"
      ]
     },
     "metadata": {},
     "output_type": "display_data"
    },
    {
     "data": {
      "text/html": [
       "<span style='background:rgb(0,0,255);color:red'>&nbsp;_christie&nbsp;keep&nbsp;the&nbsp;faith&nbsp;it`ll&nbsp;be&nbsp;over&nbsp;soon"
      ],
      "text/plain": [
       "<IPython.core.display.HTML object>"
      ]
     },
     "metadata": {},
     "output_type": "display_data"
    },
    {
     "name": "stdout",
     "output_type": "stream",
     "text": [
      "\n",
      "[ 733 ] neutral\n"
     ]
    },
    {
     "data": {
      "text/html": [
       "&nbsp;<span style='background:rgb(255,255,0);color:black'>I&nbsp;was&nbsp;watching&nbsp;Parental&nbsp;Control"
      ],
      "text/plain": [
       "<IPython.core.display.HTML object>"
      ]
     },
     "metadata": {},
     "output_type": "display_data"
    },
    {
     "data": {
      "text/html": [
       "<span style='background:rgb(0,0,255);color:red'>&nbsp;I&nbsp;was&nbsp;watching&nbsp;Parental&nbsp;Control"
      ],
      "text/plain": [
       "<IPython.core.display.HTML object>"
      ]
     },
     "metadata": {},
     "output_type": "display_data"
    },
    {
     "name": "stdout",
     "output_type": "stream",
     "text": [
      "\n",
      "[ 1552 ] neutral\n"
     ]
    },
    {
     "data": {
      "text/html": [
       "&nbsp;<span style='background:rgb(255,255,0);color:black'>taking&nbsp;mum&nbsp;to&nbsp;lunch&nbsp;for&nbsp;mothers&nbsp;day"
      ],
      "text/plain": [
       "<IPython.core.display.HTML object>"
      ]
     },
     "metadata": {},
     "output_type": "display_data"
    },
    {
     "data": {
      "text/html": [
       "<span style='background:rgb(0,0,255);color:red'>&nbsp;taking&nbsp;mum&nbsp;to&nbsp;lunch&nbsp;for&nbsp;mothers&nbsp;day"
      ],
      "text/plain": [
       "<IPython.core.display.HTML object>"
      ]
     },
     "metadata": {},
     "output_type": "display_data"
    },
    {
     "name": "stdout",
     "output_type": "stream",
     "text": [
      "\n",
      "[ 1406 ] neutral\n"
     ]
    },
    {
     "data": {
      "text/html": [
       "&nbsp;<span style='background:rgb(255,255,0);color:black'>what&nbsp;a&nbsp;smashing&nbsp;show&nbsp;tonight!&nbsp;Love&nbsp;the&nbsp;Killers!&nbsp;Wish&nbsp;I&nbsp;had&nbsp;been&nbsp;there,&nbsp;gutted...&nbsp;Such&nbsp;a&nbsp;shame&nbsp;they&nbsp;got&nbsp;cut&nbsp;off&nbsp;mid-song&nbsp;at&nbsp;the&nbsp;end"
      ],
      "text/plain": [
       "<IPython.core.display.HTML object>"
      ]
     },
     "metadata": {},
     "output_type": "display_data"
    },
    {
     "data": {
      "text/html": [
       "<span style='background:rgb(0,0,255);color:red'>&nbsp;what&nbsp;a&nbsp;smashing&nbsp;show&nbsp;tonight!&nbsp;Love&nbsp;the&nbsp;Killers!&nbsp;Wish&nbsp;I&nbsp;had&nbsp;been&nbsp;there,&nbsp;gutted...&nbsp;Such&nbsp;a&nbsp;shame&nbsp;they&nbsp;got&nbsp;cut&nbsp;off&nbsp;mid-song&nbsp;at&nbsp;the&nbsp;end"
      ],
      "text/plain": [
       "<IPython.core.display.HTML object>"
      ]
     },
     "metadata": {},
     "output_type": "display_data"
    },
    {
     "name": "stdout",
     "output_type": "stream",
     "text": [
      "\n",
      "[ 1854 ] neutral\n"
     ]
    },
    {
     "data": {
      "text/html": [
       "&nbsp;http://twitpic.com/4wsxi&nbsp;F3&nbsp;w&nbsp;(demo<span style='background:rgb(255,255,0);color:black'>)&nbsp;aero&nbsp;wheels.&nbsp;Louder,&nbsp;but&nbsp;they&nbsp;cut&nbsp;like&nbsp;a&nbsp;knife.&nbsp;U&nbsp;will&nbsp;hear&nbsp;me&nbsp;coming,&nbsp;passing&nbsp;on&nbsp;your&nbsp;left"
      ],
      "text/plain": [
       "<IPython.core.display.HTML object>"
      ]
     },
     "metadata": {},
     "output_type": "display_data"
    },
    {
     "data": {
      "text/html": [
       "<span style='background:rgb(0,0,255);color:red'>&nbsp;http://twitpic.com/4wsxi&nbsp;F3&nbsp;w&nbsp;(demo)&nbsp;aero&nbsp;wheels.&nbsp;Louder,&nbsp;but&nbsp;they&nbsp;cut&nbsp;like&nbsp;a&nbsp;knife.&nbsp;U&nbsp;will&nbsp;hear&nbsp;me&nbsp;coming,&nbsp;passing&nbsp;on&nbsp;your&nbsp;left"
      ],
      "text/plain": [
       "<IPython.core.display.HTML object>"
      ]
     },
     "metadata": {},
     "output_type": "display_data"
    },
    {
     "name": "stdout",
     "output_type": "stream",
     "text": [
      "\n",
      "[ 1969 ] neutral\n"
     ]
    },
    {
     "data": {
      "text/html": [
       "&nbsp;<span style='background:rgb(255,255,0);color:black'>OMJ&nbsp;JUSt&nbsp;qOt&nbsp;HOME&nbsp;fROM&nbsp;tHAt&nbsp;PARty!&nbsp;it`S&nbsp;2:OO&nbsp;a.m!&nbsp;i`M&nbsp;MAN&nbsp;tiRED!&nbsp;GOODNiqHt&nbsp;AND&nbsp;HAPPY&nbsp;MOtHER`S&nbsp;DAY&nbsp;2&nbsp;ALL!!!&nbsp;tAkE&nbsp;CARE&nbsp;&&nbsp;GOD&nbsp;BlESS!"
      ],
      "text/plain": [
       "<IPython.core.display.HTML object>"
      ]
     },
     "metadata": {},
     "output_type": "display_data"
    },
    {
     "data": {
      "text/html": [
       "<span style='background:rgb(0,0,255);color:red'>&nbsp;OMJ&nbsp;JUSt&nbsp;qOt&nbsp;HOME&nbsp;fROM&nbsp;tHAt&nbsp;PARty!&nbsp;it`S&nbsp;2:OO&nbsp;a.m!&nbsp;i`M&nbsp;MAN&nbsp;tiRED!&nbsp;GOODNiqHt&nbsp;AND&nbsp;HAPPY&nbsp;MOtHER`S&nbsp;DAY&nbsp;2&nbsp;ALL!!!&nbsp;tAkE&nbsp;CARE&nbsp;&&nbsp;GOD&nbsp;BlESS!"
      ],
      "text/plain": [
       "<IPython.core.display.HTML object>"
      ]
     },
     "metadata": {},
     "output_type": "display_data"
    },
    {
     "name": "stdout",
     "output_type": "stream",
     "text": [
      "\n",
      "[ 729 ] neutral\n"
     ]
    },
    {
     "data": {
      "text/html": [
       "&nbsp;<span style='background:rgb(255,255,0);color:black'>is&nbsp;working"
      ],
      "text/plain": [
       "<IPython.core.display.HTML object>"
      ]
     },
     "metadata": {},
     "output_type": "display_data"
    },
    {
     "data": {
      "text/html": [
       "<span style='background:rgb(0,0,255);color:red'>&nbsp;is&nbsp;working"
      ],
      "text/plain": [
       "<IPython.core.display.HTML object>"
      ]
     },
     "metadata": {},
     "output_type": "display_data"
    },
    {
     "name": "stdout",
     "output_type": "stream",
     "text": [
      "\n",
      "[ 1531 ] neutral\n"
     ]
    },
    {
     "data": {
      "text/html": [
       "&nbsp;<span style='background:rgb(255,255,0);color:black'>i&nbsp;wish&nbsp;i&nbsp;could&nbsp;call&nbsp;you&nbsp;but&nbsp;it&nbsp;will&nbsp;cost&nbsp;a&nbsp;lot&nbsp;my&nbsp;parents&nbsp;wont&nbsp;let&nbsp;me"
      ],
      "text/plain": [
       "<IPython.core.display.HTML object>"
      ]
     },
     "metadata": {},
     "output_type": "display_data"
    },
    {
     "data": {
      "text/html": [
       "<span style='background:rgb(0,0,255);color:red'>&nbsp;i&nbsp;wish&nbsp;i&nbsp;could&nbsp;call&nbsp;you&nbsp;but&nbsp;it&nbsp;will&nbsp;cost&nbsp;a&nbsp;lot&nbsp;my&nbsp;parents&nbsp;wont&nbsp;let&nbsp;me"
      ],
      "text/plain": [
       "<IPython.core.display.HTML object>"
      ]
     },
     "metadata": {},
     "output_type": "display_data"
    },
    {
     "name": "stdout",
     "output_type": "stream",
     "text": [
      "\n",
      "[ 1319 ] neutral\n"
     ]
    },
    {
     "data": {
      "text/html": [
       "&nbsp;<span style='background:rgb(255,255,0);color:black'>my&nbsp;baby&nbsp;man&nbsp;is&nbsp;4&nbsp;years&nbsp;old&nbsp;a&nbsp;week&nbsp;today&nbsp;he`s&nbsp;growing&nbsp;up&nbsp;too&nbsp;fast....."
      ],
      "text/plain": [
       "<IPython.core.display.HTML object>"
      ]
     },
     "metadata": {},
     "output_type": "display_data"
    },
    {
     "data": {
      "text/html": [
       "<span style='background:rgb(0,0,255);color:red'>&nbsp;my&nbsp;baby&nbsp;man&nbsp;is&nbsp;4&nbsp;years&nbsp;old&nbsp;a&nbsp;week&nbsp;today&nbsp;he`s&nbsp;growing&nbsp;up&nbsp;too&nbsp;fast....."
      ],
      "text/plain": [
       "<IPython.core.display.HTML object>"
      ]
     },
     "metadata": {},
     "output_type": "display_data"
    },
    {
     "name": "stdout",
     "output_type": "stream",
     "text": [
      "\n",
      "[ 353 ] neutral\n"
     ]
    },
    {
     "data": {
      "text/html": [
       "&nbsp;<span style='background:rgb(255,255,0);color:black'>You&nbsp;lucky&nbsp;girl!&nbsp;I&nbsp;also&nbsp;wanna&nbsp;see&nbsp;them&nbsp;(again&nbsp;LOL)&nbsp;I&nbsp;wish&nbsp;they`d&nbsp;come&nbsp;to&nbsp;europe&nbsp;again,&nbsp;but&nbsp;I&nbsp;doubt&nbsp;that"
      ],
      "text/plain": [
       "<IPython.core.display.HTML object>"
      ]
     },
     "metadata": {},
     "output_type": "display_data"
    },
    {
     "data": {
      "text/html": [
       "<span style='background:rgb(0,0,255);color:red'>&nbsp;You&nbsp;lucky&nbsp;girl!&nbsp;I&nbsp;also&nbsp;wanna&nbsp;see&nbsp;them&nbsp;(again&nbsp;LOL)&nbsp;I&nbsp;wish&nbsp;they`d&nbsp;come&nbsp;to&nbsp;europe&nbsp;again,&nbsp;but&nbsp;I&nbsp;doubt&nbsp;that"
      ],
      "text/plain": [
       "<IPython.core.display.HTML object>"
      ]
     },
     "metadata": {},
     "output_type": "display_data"
    },
    {
     "name": "stdout",
     "output_type": "stream",
     "text": [
      "\n",
      "[ 1898 ] neutral\n"
     ]
    },
    {
     "data": {
      "text/html": [
       "&nbsp;<span style='background:rgb(255,255,0);color:black'>I&nbsp;want&nbsp;2&nbsp;get&nbsp;my&nbsp;nails&nbsp;done&nbsp;today,&nbsp;but&nbsp;according&nbsp;2&nbsp;superstition&nbsp;I&nbsp;can`t.&nbsp;Guess&nbsp;I`ll&nbsp;have&nbsp;2&nbsp;wait&nbsp;til&nbsp;tomorrow&nbsp;then..&nbsp;off&nbsp;2&nbsp;French!"
      ],
      "text/plain": [
       "<IPython.core.display.HTML object>"
      ]
     },
     "metadata": {},
     "output_type": "display_data"
    },
    {
     "data": {
      "text/html": [
       "<span style='background:rgb(0,0,255);color:red'>&nbsp;I&nbsp;want&nbsp;2&nbsp;get&nbsp;my&nbsp;nails&nbsp;done&nbsp;today,&nbsp;but&nbsp;according&nbsp;2&nbsp;superstition&nbsp;I&nbsp;can`t.&nbsp;Guess&nbsp;I`ll&nbsp;have&nbsp;2&nbsp;wait&nbsp;til&nbsp;tomorrow&nbsp;then..&nbsp;off&nbsp;2&nbsp;French!"
      ],
      "text/plain": [
       "<IPython.core.display.HTML object>"
      ]
     },
     "metadata": {},
     "output_type": "display_data"
    },
    {
     "name": "stdout",
     "output_type": "stream",
     "text": [
      "\n",
      "[ 221 ] neutral\n"
     ]
    },
    {
     "data": {
      "text/html": [
       "&nbsp;<span style='background:rgb(255,255,0);color:black'>Mel?&nbsp;Where&nbsp;Are&nbsp;You&nbsp;You&nbsp;Shud&nbsp;Be&nbsp;Here&nbsp;At&nbsp;My&nbsp;House"
      ],
      "text/plain": [
       "<IPython.core.display.HTML object>"
      ]
     },
     "metadata": {},
     "output_type": "display_data"
    },
    {
     "data": {
      "text/html": [
       "<span style='background:rgb(0,0,255);color:red'>&nbsp;Mel?&nbsp;Where&nbsp;Are&nbsp;You&nbsp;You&nbsp;Shud&nbsp;Be&nbsp;Here&nbsp;At&nbsp;My&nbsp;House"
      ],
      "text/plain": [
       "<IPython.core.display.HTML object>"
      ]
     },
     "metadata": {},
     "output_type": "display_data"
    },
    {
     "name": "stdout",
     "output_type": "stream",
     "text": [
      "\n",
      "[ 768 ] neutral\n"
     ]
    },
    {
     "data": {
      "text/html": [
       "&nbsp;<span style='background:rgb(255,255,0);color:black'>woo!&nbsp;I&nbsp;was&nbsp;at&nbsp;whole&nbsp;earth&nbsp;tonight,&nbsp;maybe&nbsp;tomorrow&nbsp;some,&nbsp;let&nbsp;me&nbsp;know&nbsp;if&nbsp;you&nbsp;come&nbsp;back.&nbsp;Yay&nbsp;for&nbsp;wikipedia"
      ],
      "text/plain": [
       "<IPython.core.display.HTML object>"
      ]
     },
     "metadata": {},
     "output_type": "display_data"
    },
    {
     "data": {
      "text/html": [
       "<span style='background:rgb(0,0,255);color:red'>&nbsp;woo!&nbsp;I&nbsp;was&nbsp;at&nbsp;whole&nbsp;earth&nbsp;tonight,&nbsp;maybe&nbsp;tomorrow&nbsp;some,&nbsp;let&nbsp;me&nbsp;know&nbsp;if&nbsp;you&nbsp;come&nbsp;back.&nbsp;Yay&nbsp;for&nbsp;wikipedia"
      ],
      "text/plain": [
       "<IPython.core.display.HTML object>"
      ]
     },
     "metadata": {},
     "output_type": "display_data"
    },
    {
     "name": "stdout",
     "output_type": "stream",
     "text": [
      "\n",
      "[model_1.csv]\n",
      "[ 894 ] neutral\n"
     ]
    },
    {
     "data": {
      "text/html": [
       "&nbsp;<span style='background:rgb(255,255,0);color:black'>Busssssss&nbsp;with&nbsp;everyone!&nbsp;yayyy!!</span>!!!!!"
      ],
      "text/plain": [
       "<IPython.core.display.HTML object>"
      ]
     },
     "metadata": {},
     "output_type": "display_data"
    },
    {
     "data": {
      "text/html": [
       "<span style='background:rgb(0,0,255);color:red'>&nbsp;Busssssss&nbsp;with&nbsp;everyone!&nbsp;yayyy!!!!!!!"
      ],
      "text/plain": [
       "<IPython.core.display.HTML object>"
      ]
     },
     "metadata": {},
     "output_type": "display_data"
    },
    {
     "name": "stdout",
     "output_type": "stream",
     "text": [
      "\n",
      "[ 656 ] neutral\n"
     ]
    },
    {
     "data": {
      "text/html": [
       "&nbsp;<span style='background:rgb(255,255,0);color:black'>Took&nbsp;a&nbsp;4&nbsp;hour&nbsp;nap&nbsp;after&nbsp;work&nbsp;today&nbsp;and&nbsp;won`t&nbsp;be&nbsp;able&nbsp;to&nbsp;sleep&nbsp;all&nbsp;night&nbsp;This&nbsp;is&nbsp;a&nbsp;bummer</span>"
      ],
      "text/plain": [
       "<IPython.core.display.HTML object>"
      ]
     },
     "metadata": {},
     "output_type": "display_data"
    },
    {
     "data": {
      "text/html": [
       "<span style='background:rgb(0,0,255);color:red'>&nbsp;Took&nbsp;a&nbsp;4&nbsp;hour&nbsp;nap&nbsp;after&nbsp;work&nbsp;today&nbsp;and&nbsp;won`t&nbsp;be&nbsp;able&nbsp;to&nbsp;sleep&nbsp;all&nbsp;night&nbsp;This&nbsp;is&nbsp;a&nbsp;bummer"
      ],
      "text/plain": [
       "<IPython.core.display.HTML object>"
      ]
     },
     "metadata": {},
     "output_type": "display_data"
    },
    {
     "name": "stdout",
     "output_type": "stream",
     "text": [
      "\n",
      "[ 333 ] neutral\n"
     ]
    },
    {
     "data": {
      "text/html": [
       "&nbsp;<span style='background:rgb(255,255,0);color:black'>I`m&nbsp;way&nbsp;to&nbsp;hungry&nbsp;to&nbsp;even&nbsp;think.&nbsp;I&nbsp;can`t&nbsp;go&nbsp;to&nbsp;work&nbsp;on&nbsp;an&nbsp;empty&nbsp;stomach&nbsp;like&nbsp;this"
      ],
      "text/plain": [
       "<IPython.core.display.HTML object>"
      ]
     },
     "metadata": {},
     "output_type": "display_data"
    },
    {
     "data": {
      "text/html": [
       "<span style='background:rgb(0,0,255);color:red'>&nbsp;I`m&nbsp;way&nbsp;to&nbsp;hungry&nbsp;to&nbsp;even&nbsp;think.&nbsp;I&nbsp;can`t&nbsp;go&nbsp;to&nbsp;work&nbsp;on&nbsp;an&nbsp;empty&nbsp;stomach&nbsp;like&nbsp;this"
      ],
      "text/plain": [
       "<IPython.core.display.HTML object>"
      ]
     },
     "metadata": {},
     "output_type": "display_data"
    },
    {
     "name": "stdout",
     "output_type": "stream",
     "text": [
      "\n",
      "[ 223 ] neutral\n"
     ]
    },
    {
     "data": {
      "text/html": [
       "&nbsp;<span style='background:rgb(255,255,0);color:black'>Well&nbsp;its&nbsp;a&nbsp;good&nbsp;thing&nbsp;``march``&nbsp;wasnt&nbsp;very&nbsp;long&nbsp;and&nbsp;i&nbsp;didnt&nbsp;like&nbsp;it...cuz&nbsp;its&nbsp;deleted.&nbsp;Ugh"
      ],
      "text/plain": [
       "<IPython.core.display.HTML object>"
      ]
     },
     "metadata": {},
     "output_type": "display_data"
    },
    {
     "data": {
      "text/html": [
       "<span style='background:rgb(0,0,255);color:red'>&nbsp;Well&nbsp;its&nbsp;a&nbsp;good&nbsp;thing&nbsp;``march``&nbsp;wasnt&nbsp;very&nbsp;long&nbsp;and&nbsp;i&nbsp;didnt&nbsp;like&nbsp;it...cuz&nbsp;its&nbsp;deleted.&nbsp;Ugh"
      ],
      "text/plain": [
       "<IPython.core.display.HTML object>"
      ]
     },
     "metadata": {},
     "output_type": "display_data"
    },
    {
     "name": "stdout",
     "output_type": "stream",
     "text": [
      "\n",
      "[ 1313 ] neutral\n"
     ]
    },
    {
     "data": {
      "text/html": [
       "&nbsp;<span style='background:rgb(255,255,0);color:black'>someones&nbsp;dead&nbsp;on&nbsp;army&nbsp;wives.&nbsp;Dad&nbsp;just&nbsp;laughed&nbsp;and&nbsp;Mum&nbsp;got&nbsp;annoyed&nbsp;with&nbsp;him.&nbsp;I&nbsp;wanna&nbsp;watch&nbsp;Britains&nbsp;Got&nbsp;Talent"
      ],
      "text/plain": [
       "<IPython.core.display.HTML object>"
      ]
     },
     "metadata": {},
     "output_type": "display_data"
    },
    {
     "data": {
      "text/html": [
       "<span style='background:rgb(0,0,255);color:red'>&nbsp;someones&nbsp;dead&nbsp;on&nbsp;army&nbsp;wives.&nbsp;Dad&nbsp;just&nbsp;laughed&nbsp;and&nbsp;Mum&nbsp;got&nbsp;annoyed&nbsp;with&nbsp;him.&nbsp;I&nbsp;wanna&nbsp;watch&nbsp;Britains&nbsp;Got&nbsp;Talent"
      ],
      "text/plain": [
       "<IPython.core.display.HTML object>"
      ]
     },
     "metadata": {},
     "output_type": "display_data"
    },
    {
     "name": "stdout",
     "output_type": "stream",
     "text": [
      "\n",
      "[ 301 ] neutral\n"
     ]
    },
    {
     "data": {
      "text/html": [
       "&nbsp;<span style='background:rgb(255,255,0);color:black'>Leaving&nbsp;Wildwood&nbsp;tomorrow&nbsp;but&nbsp;Luke&nbsp;says&nbsp;we&nbsp;will&nbsp;be&nbsp;back&nbsp;soon!"
      ],
      "text/plain": [
       "<IPython.core.display.HTML object>"
      ]
     },
     "metadata": {},
     "output_type": "display_data"
    },
    {
     "data": {
      "text/html": [
       "<span style='background:rgb(0,0,255);color:red'>&nbsp;Leaving&nbsp;Wildwood&nbsp;tomorrow&nbsp;but&nbsp;Luke&nbsp;says&nbsp;we&nbsp;will&nbsp;be&nbsp;back&nbsp;soon!"
      ],
      "text/plain": [
       "<IPython.core.display.HTML object>"
      ]
     },
     "metadata": {},
     "output_type": "display_data"
    },
    {
     "name": "stdout",
     "output_type": "stream",
     "text": [
      "\n",
      "[ 1779 ] neutral\n"
     ]
    },
    {
     "data": {
      "text/html": [
       "&nbsp;<span style='background:rgb(255,255,0);color:black'>no&nbsp;Belgian&nbsp;an&nbsp;not&nbsp;a&nbsp;record&nbsp;collector"
      ],
      "text/plain": [
       "<IPython.core.display.HTML object>"
      ]
     },
     "metadata": {},
     "output_type": "display_data"
    },
    {
     "data": {
      "text/html": [
       "<span style='background:rgb(0,0,255);color:red'>&nbsp;no&nbsp;Belgian&nbsp;an&nbsp;not&nbsp;a&nbsp;record&nbsp;collector"
      ],
      "text/plain": [
       "<IPython.core.display.HTML object>"
      ]
     },
     "metadata": {},
     "output_type": "display_data"
    },
    {
     "name": "stdout",
     "output_type": "stream",
     "text": [
      "\n",
      "[ 1553 ] neutral\n"
     ]
    },
    {
     "data": {
      "text/html": [
       "&nbsp;<span style='background:rgb(255,255,0);color:black'>it`s&nbsp;overwhelming&nbsp;how&nbsp;i`m&nbsp;finally&nbsp;catching&nbsp;up&nbsp;with&nbsp;my&nbsp;cousin/bff&nbsp;since&nbsp;i&nbsp;was&nbsp;three&nbsp;who&nbsp;i&nbsp;haven`t&nbsp;seen&nbsp;in&nbsp;years.&nbsp;ah,&nbsp;memories.&nbsp;miss&nbsp;her"
      ],
      "text/plain": [
       "<IPython.core.display.HTML object>"
      ]
     },
     "metadata": {},
     "output_type": "display_data"
    },
    {
     "data": {
      "text/html": [
       "<span style='background:rgb(0,0,255);color:red'>&nbsp;it`s&nbsp;overwhelming&nbsp;how&nbsp;i`m&nbsp;finally&nbsp;catching&nbsp;up&nbsp;with&nbsp;my&nbsp;cousin/bff&nbsp;since&nbsp;i&nbsp;was&nbsp;three&nbsp;who&nbsp;i&nbsp;haven`t&nbsp;seen&nbsp;in&nbsp;years.&nbsp;ah,&nbsp;memories.&nbsp;miss&nbsp;her"
      ],
      "text/plain": [
       "<IPython.core.display.HTML object>"
      ]
     },
     "metadata": {},
     "output_type": "display_data"
    },
    {
     "name": "stdout",
     "output_type": "stream",
     "text": [
      "\n",
      "[ 1104 ] neutral\n"
     ]
    },
    {
     "data": {
      "text/html": [
       "&nbsp;<span style='background:rgb(255,255,0);color:black'>just&nbsp;did&nbsp;my&nbsp;bit&nbsp;to&nbsp;stimulate&nbsp;the&nbsp;economy"
      ],
      "text/plain": [
       "<IPython.core.display.HTML object>"
      ]
     },
     "metadata": {},
     "output_type": "display_data"
    },
    {
     "data": {
      "text/html": [
       "<span style='background:rgb(0,0,255);color:red'>&nbsp;just&nbsp;did&nbsp;my&nbsp;bit&nbsp;to&nbsp;stimulate&nbsp;the&nbsp;economy"
      ],
      "text/plain": [
       "<IPython.core.display.HTML object>"
      ]
     },
     "metadata": {},
     "output_type": "display_data"
    },
    {
     "name": "stdout",
     "output_type": "stream",
     "text": [
      "\n",
      "[ 1968 ] neutral\n"
     ]
    },
    {
     "data": {
      "text/html": [
       "&nbsp;<span style='background:rgb(255,255,0);color:black'>I&nbsp;would&nbsp;LOVE&nbsp;to&nbsp;learn&nbsp;trapeze!&nbsp;I`ve&nbsp;wanted&nbsp;to&nbsp;do&nbsp;that&nbsp;since&nbsp;I&nbsp;was&nbsp;a&nbsp;kid.&nbsp;Sadly,&nbsp;there`s&nbsp;no&nbsp;place&nbsp;where&nbsp;I&nbsp;live&nbsp;that&nbsp;teaches"
      ],
      "text/plain": [
       "<IPython.core.display.HTML object>"
      ]
     },
     "metadata": {},
     "output_type": "display_data"
    },
    {
     "data": {
      "text/html": [
       "<span style='background:rgb(0,0,255);color:red'>&nbsp;I&nbsp;would&nbsp;LOVE&nbsp;to&nbsp;learn&nbsp;trapeze!&nbsp;I`ve&nbsp;wanted&nbsp;to&nbsp;do&nbsp;that&nbsp;since&nbsp;I&nbsp;was&nbsp;a&nbsp;kid.&nbsp;Sadly,&nbsp;there`s&nbsp;no&nbsp;place&nbsp;where&nbsp;I&nbsp;live&nbsp;that&nbsp;teaches"
      ],
      "text/plain": [
       "<IPython.core.display.HTML object>"
      ]
     },
     "metadata": {},
     "output_type": "display_data"
    },
    {
     "name": "stdout",
     "output_type": "stream",
     "text": [
      "\n",
      "[ 13 ] neutral\n"
     ]
    },
    {
     "data": {
      "text/html": [
       "&nbsp;<span style='background:rgb(255,255,0);color:black'>Bad&nbsp;day&nbsp;The&nbsp;day&nbsp;you&nbsp;realize&nbsp;what&nbsp;mess&nbsp;you`ve&nbsp;put&nbsp;me&nbsp;through&nbsp;will&nbsp;be&nbsp;one&nbsp;of&nbsp;the&nbsp;happiest&nbsp;days&nbsp;of&nbsp;my&nbsp;life..."
      ],
      "text/plain": [
       "<IPython.core.display.HTML object>"
      ]
     },
     "metadata": {},
     "output_type": "display_data"
    },
    {
     "data": {
      "text/html": [
       "<span style='background:rgb(0,0,255);color:red'>&nbsp;Bad&nbsp;day&nbsp;The&nbsp;day&nbsp;you&nbsp;realize&nbsp;what&nbsp;mess&nbsp;you`ve&nbsp;put&nbsp;me&nbsp;through&nbsp;will&nbsp;be&nbsp;one&nbsp;of&nbsp;the&nbsp;happiest&nbsp;days&nbsp;of&nbsp;my&nbsp;life..."
      ],
      "text/plain": [
       "<IPython.core.display.HTML object>"
      ]
     },
     "metadata": {},
     "output_type": "display_data"
    },
    {
     "name": "stdout",
     "output_type": "stream",
     "text": [
      "\n",
      "[ 494 ] neutral\n"
     ]
    },
    {
     "data": {
      "text/html": [
       "&nbsp;<span style='background:rgb(255,255,0);color:black'>Chili&nbsp;night&nbsp;in&nbsp;Minneapolis.&nbsp;I&nbsp;refuse&nbsp;to&nbsp;turn&nbsp;the&nbsp;heat&nbsp;on&nbsp;in&nbsp;May!"
      ],
      "text/plain": [
       "<IPython.core.display.HTML object>"
      ]
     },
     "metadata": {},
     "output_type": "display_data"
    },
    {
     "data": {
      "text/html": [
       "<span style='background:rgb(0,0,255);color:red'>&nbsp;Chili&nbsp;night&nbsp;in&nbsp;Minneapolis.&nbsp;I&nbsp;refuse&nbsp;to&nbsp;turn&nbsp;the&nbsp;heat&nbsp;on&nbsp;in&nbsp;May!"
      ],
      "text/plain": [
       "<IPython.core.display.HTML object>"
      ]
     },
     "metadata": {},
     "output_type": "display_data"
    },
    {
     "name": "stdout",
     "output_type": "stream",
     "text": [
      "\n",
      "[ 900 ] neutral\n"
     ]
    },
    {
     "data": {
      "text/html": [
       "&nbsp;<span style='background:rgb(255,255,0);color:black'>Getting&nbsp;back&nbsp;online,&nbsp;now.&nbsp;Just&nbsp;shifting&nbsp;locations!"
      ],
      "text/plain": [
       "<IPython.core.display.HTML object>"
      ]
     },
     "metadata": {},
     "output_type": "display_data"
    },
    {
     "data": {
      "text/html": [
       "<span style='background:rgb(0,0,255);color:red'>&nbsp;Getting&nbsp;back&nbsp;online,&nbsp;now.&nbsp;Just&nbsp;shifting&nbsp;locations!"
      ],
      "text/plain": [
       "<IPython.core.display.HTML object>"
      ]
     },
     "metadata": {},
     "output_type": "display_data"
    },
    {
     "name": "stdout",
     "output_type": "stream",
     "text": [
      "\n",
      "[ 1920 ] neutral\n"
     ]
    },
    {
     "data": {
      "text/html": [
       "&nbsp;<span style='background:rgb(255,255,0);color:black'>resting&nbsp;had&nbsp;a&nbsp;whole&nbsp;day&nbsp;of&nbsp;walking"
      ],
      "text/plain": [
       "<IPython.core.display.HTML object>"
      ]
     },
     "metadata": {},
     "output_type": "display_data"
    },
    {
     "data": {
      "text/html": [
       "<span style='background:rgb(0,0,255);color:red'>&nbsp;resting&nbsp;had&nbsp;a&nbsp;whole&nbsp;day&nbsp;of&nbsp;walking"
      ],
      "text/plain": [
       "<IPython.core.display.HTML object>"
      ]
     },
     "metadata": {},
     "output_type": "display_data"
    },
    {
     "name": "stdout",
     "output_type": "stream",
     "text": [
      "\n",
      "[ 1698 ] neutral\n"
     ]
    },
    {
     "data": {
      "text/html": [
       "&nbsp;<span style='background:rgb(255,255,0);color:black'>i&nbsp;want&nbsp;all&nbsp;kinds&nbsp;of&nbsp;designer&nbsp;suggestions&nbsp;darl&nbsp;any&nbsp;and&nbsp;all.&nbsp;mens,&nbsp;womens,&nbsp;anything!&nbsp;formal/street/alternate.&nbsp;whatever!"
      ],
      "text/plain": [
       "<IPython.core.display.HTML object>"
      ]
     },
     "metadata": {},
     "output_type": "display_data"
    },
    {
     "data": {
      "text/html": [
       "<span style='background:rgb(0,0,255);color:red'>&nbsp;i&nbsp;want&nbsp;all&nbsp;kinds&nbsp;of&nbsp;designer&nbsp;suggestions&nbsp;darl&nbsp;any&nbsp;and&nbsp;all.&nbsp;mens,&nbsp;womens,&nbsp;anything!&nbsp;formal/street/alternate.&nbsp;whatever!"
      ],
      "text/plain": [
       "<IPython.core.display.HTML object>"
      ]
     },
     "metadata": {},
     "output_type": "display_data"
    },
    {
     "name": "stdout",
     "output_type": "stream",
     "text": [
      "\n",
      "[ 885 ] neutral\n"
     ]
    },
    {
     "data": {
      "text/html": [
       "&nbsp;<span style='background:rgb(255,255,0);color:black'>_x&nbsp;Who&nbsp;Else&nbsp;do&nbsp;you&nbsp;Loveee?"
      ],
      "text/plain": [
       "<IPython.core.display.HTML object>"
      ]
     },
     "metadata": {},
     "output_type": "display_data"
    },
    {
     "data": {
      "text/html": [
       "<span style='background:rgb(0,0,255);color:red'>&nbsp;_x&nbsp;Who&nbsp;Else&nbsp;do&nbsp;you&nbsp;Loveee?"
      ],
      "text/plain": [
       "<IPython.core.display.HTML object>"
      ]
     },
     "metadata": {},
     "output_type": "display_data"
    },
    {
     "name": "stdout",
     "output_type": "stream",
     "text": [
      "\n",
      "[ 264 ] neutral\n"
     ]
    },
    {
     "data": {
      "text/html": [
       "&nbsp;<span style='background:rgb(255,255,0);color:black'>gets&nbsp;to&nbsp;get&nbsp;up&nbsp;at&nbsp;8am&nbsp;tommorow&nbsp;to&nbsp;collect&nbsp;money&nbsp;for&nbsp;Relay&nbsp;for&nbsp;Life!&nbsp;Yay&nbsp;Me!&nbsp;I&nbsp;do&nbsp;not&nbsp;want&nbsp;to&nbsp;get&nbsp;up"
      ],
      "text/plain": [
       "<IPython.core.display.HTML object>"
      ]
     },
     "metadata": {},
     "output_type": "display_data"
    },
    {
     "data": {
      "text/html": [
       "<span style='background:rgb(0,0,255);color:red'>&nbsp;gets&nbsp;to&nbsp;get&nbsp;up&nbsp;at&nbsp;8am&nbsp;tommorow&nbsp;to&nbsp;collect&nbsp;money&nbsp;for&nbsp;Relay&nbsp;for&nbsp;Life!&nbsp;Yay&nbsp;Me!&nbsp;I&nbsp;do&nbsp;not&nbsp;want&nbsp;to&nbsp;get&nbsp;up"
      ],
      "text/plain": [
       "<IPython.core.display.HTML object>"
      ]
     },
     "metadata": {},
     "output_type": "display_data"
    },
    {
     "name": "stdout",
     "output_type": "stream",
     "text": [
      "\n",
      "[ 59 ] neutral\n"
     ]
    },
    {
     "data": {
      "text/html": [
       "&nbsp;<span style='background:rgb(255,255,0);color:black'>It`s&nbsp;a&nbsp;beautiful&nbsp;day&nbsp;outside&nbsp;today,&nbsp;shame&nbsp;I`m&nbsp;stuck&nbsp;in&nbsp;the&nbsp;office&nbsp;with&nbsp;the&nbsp;blinds&nbsp;shut&nbsp;to&nbsp;stop&nbsp;glare."
      ],
      "text/plain": [
       "<IPython.core.display.HTML object>"
      ]
     },
     "metadata": {},
     "output_type": "display_data"
    },
    {
     "data": {
      "text/html": [
       "<span style='background:rgb(0,0,255);color:red'>&nbsp;It`s&nbsp;a&nbsp;beautiful&nbsp;day&nbsp;outside&nbsp;today,&nbsp;shame&nbsp;I`m&nbsp;stuck&nbsp;in&nbsp;the&nbsp;office&nbsp;with&nbsp;the&nbsp;blinds&nbsp;shut&nbsp;to&nbsp;stop&nbsp;glare."
      ],
      "text/plain": [
       "<IPython.core.display.HTML object>"
      ]
     },
     "metadata": {},
     "output_type": "display_data"
    },
    {
     "name": "stdout",
     "output_type": "stream",
     "text": [
      "\n",
      "[ 1239 ] neutral\n"
     ]
    },
    {
     "data": {
      "text/html": [
       "&nbsp;<span style='background:rgb(255,255,0);color:black'>I&nbsp;love&nbsp;#polaroid&nbsp;-&nbsp;such&nbsp;a&nbsp;shame&nbsp;they&nbsp;don`t&nbsp;make&nbsp;the&nbsp;film&nbsp;for&nbsp;it&nbsp;anymore"
      ],
      "text/plain": [
       "<IPython.core.display.HTML object>"
      ]
     },
     "metadata": {},
     "output_type": "display_data"
    },
    {
     "data": {
      "text/html": [
       "<span style='background:rgb(0,0,255);color:red'>&nbsp;I&nbsp;love&nbsp;#polaroid&nbsp;-&nbsp;such&nbsp;a&nbsp;shame&nbsp;they&nbsp;don`t&nbsp;make&nbsp;the&nbsp;film&nbsp;for&nbsp;it&nbsp;anymore"
      ],
      "text/plain": [
       "<IPython.core.display.HTML object>"
      ]
     },
     "metadata": {},
     "output_type": "display_data"
    },
    {
     "name": "stdout",
     "output_type": "stream",
     "text": [
      "\n",
      "[ 2197 ] neutral\n"
     ]
    },
    {
     "data": {
      "text/html": [
       "&nbsp;<span style='background:rgb(255,255,0);color:black'>idkk&nbsp;if&nbsp;il&nbsp;get&nbsp;to&nbsp;see&nbsp;it&nbsp;again"
      ],
      "text/plain": [
       "<IPython.core.display.HTML object>"
      ]
     },
     "metadata": {},
     "output_type": "display_data"
    },
    {
     "data": {
      "text/html": [
       "<span style='background:rgb(0,0,255);color:red'>&nbsp;idkk&nbsp;if&nbsp;il&nbsp;get&nbsp;to&nbsp;see&nbsp;it&nbsp;again"
      ],
      "text/plain": [
       "<IPython.core.display.HTML object>"
      ]
     },
     "metadata": {},
     "output_type": "display_data"
    },
    {
     "name": "stdout",
     "output_type": "stream",
     "text": [
      "\n",
      "[model_2.csv]\n",
      "[ 1923 ] neutral\n"
     ]
    },
    {
     "data": {
      "text/html": [
       "&nbsp;<span style='background:rgb(255,255,0);color:black'>How&nbsp;BOut&nbsp;What&nbsp;Your&nbsp;Doing&nbsp;Now,&nbsp;or&nbsp;what&nbsp;you&nbsp;gonna&nbsp;do&nbsp;today&nbsp;lol"
      ],
      "text/plain": [
       "<IPython.core.display.HTML object>"
      ]
     },
     "metadata": {},
     "output_type": "display_data"
    },
    {
     "data": {
      "text/html": [
       "<span style='background:rgb(0,0,255);color:red'>&nbsp;How&nbsp;BOut&nbsp;What&nbsp;Your&nbsp;Doing&nbsp;Now,&nbsp;or&nbsp;what&nbsp;you&nbsp;gonna&nbsp;do&nbsp;today&nbsp;lol"
      ],
      "text/plain": [
       "<IPython.core.display.HTML object>"
      ]
     },
     "metadata": {},
     "output_type": "display_data"
    },
    {
     "name": "stdout",
     "output_type": "stream",
     "text": [
      "\n",
      "[ 1442 ] neutral\n"
     ]
    },
    {
     "data": {
      "text/html": [
       "&nbsp;<span style='background:rgb(255,255,0);color:black'>Heh&nbsp;heh&nbsp;heh,&nbsp;come&nbsp;on!&nbsp;It&nbsp;is&nbsp;a&nbsp;THQ&nbsp;release!&nbsp;Ah&nbsp;well,&nbsp;I&nbsp;can&nbsp;try&nbsp;almost&nbsp;anything&nbsp;that&nbsp;is&nbsp;billed&nbsp;as&nbsp;RPG!"
      ],
      "text/plain": [
       "<IPython.core.display.HTML object>"
      ]
     },
     "metadata": {},
     "output_type": "display_data"
    },
    {
     "data": {
      "text/html": [
       "<span style='background:rgb(0,0,255);color:red'>&nbsp;Heh&nbsp;heh&nbsp;heh,&nbsp;come&nbsp;on!&nbsp;It&nbsp;is&nbsp;a&nbsp;THQ&nbsp;release!&nbsp;Ah&nbsp;well,&nbsp;I&nbsp;can&nbsp;try&nbsp;almost&nbsp;anything&nbsp;that&nbsp;is&nbsp;billed&nbsp;as&nbsp;RPG!"
      ],
      "text/plain": [
       "<IPython.core.display.HTML object>"
      ]
     },
     "metadata": {},
     "output_type": "display_data"
    },
    {
     "name": "stdout",
     "output_type": "stream",
     "text": [
      "\n",
      "[ 1971 ] neutral\n"
     ]
    },
    {
     "data": {
      "text/html": [
       "&nbsp;<span style='background:rgb(255,255,0);color:black'>Tweet&nbsp;riot.&nbsp;I&nbsp;can`t&nbsp;download&nbsp;Tweet&nbsp;Genius&nbsp;on&nbsp;my&nbsp;other&nbsp;device"
      ],
      "text/plain": [
       "<IPython.core.display.HTML object>"
      ]
     },
     "metadata": {},
     "output_type": "display_data"
    },
    {
     "data": {
      "text/html": [
       "<span style='background:rgb(0,0,255);color:red'>&nbsp;Tweet&nbsp;riot.&nbsp;I&nbsp;can`t&nbsp;download&nbsp;Tweet&nbsp;Genius&nbsp;on&nbsp;my&nbsp;other&nbsp;device"
      ],
      "text/plain": [
       "<IPython.core.display.HTML object>"
      ]
     },
     "metadata": {},
     "output_type": "display_data"
    },
    {
     "name": "stdout",
     "output_type": "stream",
     "text": [
      "\n",
      "[ 1059 ] neutral\n"
     ]
    },
    {
     "data": {
      "text/html": [
       "&nbsp;<span style='background:rgb(255,255,0);color:black'>Conference&nbsp;call&nbsp;arranged&nbsp;for&nbsp;4.30pm&nbsp;today&nbsp;just&nbsp;blew&nbsp;my&nbsp;leaving&nbsp;early&nbsp;out&nbsp;the&nbsp;window"
      ],
      "text/plain": [
       "<IPython.core.display.HTML object>"
      ]
     },
     "metadata": {},
     "output_type": "display_data"
    },
    {
     "data": {
      "text/html": [
       "<span style='background:rgb(0,0,255);color:red'>&nbsp;Conference&nbsp;call&nbsp;arranged&nbsp;for&nbsp;4.30pm&nbsp;today&nbsp;just&nbsp;blew&nbsp;my&nbsp;leaving&nbsp;early&nbsp;out&nbsp;the&nbsp;window"
      ],
      "text/plain": [
       "<IPython.core.display.HTML object>"
      ]
     },
     "metadata": {},
     "output_type": "display_data"
    },
    {
     "name": "stdout",
     "output_type": "stream",
     "text": [
      "\n",
      "[ 469 ] neutral\n"
     ]
    },
    {
     "data": {
      "text/html": [
       "&nbsp;<span style='background:rgb(255,255,0);color:black'>Planning&nbsp;to&nbsp;run&nbsp;riot&nbsp;in&nbsp;Luton&nbsp;today!&nbsp;BA&nbsp;HAA!&nbsp;Not&nbsp;reeeally&nbsp;where`s&nbsp;the&nbsp;library&nbsp;in&nbsp;this&nbsp;(****)&nbsp;town&nbsp;though?"
      ],
      "text/plain": [
       "<IPython.core.display.HTML object>"
      ]
     },
     "metadata": {},
     "output_type": "display_data"
    },
    {
     "data": {
      "text/html": [
       "<span style='background:rgb(0,0,255);color:red'>&nbsp;Planning&nbsp;to&nbsp;run&nbsp;riot&nbsp;in&nbsp;Luton&nbsp;today!&nbsp;BA&nbsp;HAA!&nbsp;Not&nbsp;reeeally&nbsp;where`s&nbsp;the&nbsp;library&nbsp;in&nbsp;this&nbsp;(****)&nbsp;town&nbsp;though?"
      ],
      "text/plain": [
       "<IPython.core.display.HTML object>"
      ]
     },
     "metadata": {},
     "output_type": "display_data"
    },
    {
     "name": "stdout",
     "output_type": "stream",
     "text": [
      "\n",
      "[ 223 ] neutral\n"
     ]
    },
    {
     "data": {
      "text/html": [
       "&nbsp;<span style='background:rgb(255,255,0);color:black'>I&nbsp;was&nbsp;SUPPOSED&nbsp;to&nbsp;be&nbsp;coming...life&nbsp;got&nbsp;in&nbsp;the&nbsp;way&nbsp;lol&nbsp;give&nbsp;my&nbsp;friends&nbsp;a&nbsp;wild&nbsp;time!!!"
      ],
      "text/plain": [
       "<IPython.core.display.HTML object>"
      ]
     },
     "metadata": {},
     "output_type": "display_data"
    },
    {
     "data": {
      "text/html": [
       "<span style='background:rgb(0,0,255);color:red'>&nbsp;I&nbsp;was&nbsp;SUPPOSED&nbsp;to&nbsp;be&nbsp;coming...life&nbsp;got&nbsp;in&nbsp;the&nbsp;way&nbsp;lol&nbsp;give&nbsp;my&nbsp;friends&nbsp;a&nbsp;wild&nbsp;time!!!"
      ],
      "text/plain": [
       "<IPython.core.display.HTML object>"
      ]
     },
     "metadata": {},
     "output_type": "display_data"
    },
    {
     "name": "stdout",
     "output_type": "stream",
     "text": [
      "\n",
      "[ 703 ] neutral\n"
     ]
    },
    {
     "data": {
      "text/html": [
       "&nbsp;<span style='background:rgb(255,255,0);color:black'>Little&nbsp;bottle&nbsp;jus&nbsp;for&nbsp;me&nbsp;</span>http://mypict.me/FLC"
      ],
      "text/plain": [
       "<IPython.core.display.HTML object>"
      ]
     },
     "metadata": {},
     "output_type": "display_data"
    },
    {
     "data": {
      "text/html": [
       "<span style='background:rgb(0,0,255);color:red'>&nbsp;Little&nbsp;bottle&nbsp;jus&nbsp;for&nbsp;me&nbsp;http://mypict.me/FLC"
      ],
      "text/plain": [
       "<IPython.core.display.HTML object>"
      ]
     },
     "metadata": {},
     "output_type": "display_data"
    },
    {
     "name": "stdout",
     "output_type": "stream",
     "text": [
      "\n",
      "[ 2077 ] neutral\n"
     ]
    },
    {
     "data": {
      "text/html": [
       "&nbsp;<span style='background:rgb(255,255,0);color:black'>Caught&nbsp;up&nbsp;with&nbsp;apprentice&nbsp;last&nbsp;night,&nbsp;poor&nbsp;Howard,&nbsp;it&nbsp;was&nbsp;Lorraine`s&nbsp;turn&nbsp;to&nbsp;go"
      ],
      "text/plain": [
       "<IPython.core.display.HTML object>"
      ]
     },
     "metadata": {},
     "output_type": "display_data"
    },
    {
     "data": {
      "text/html": [
       "<span style='background:rgb(0,0,255);color:red'>&nbsp;Caught&nbsp;up&nbsp;with&nbsp;apprentice&nbsp;last&nbsp;night,&nbsp;poor&nbsp;Howard,&nbsp;it&nbsp;was&nbsp;Lorraine`s&nbsp;turn&nbsp;to&nbsp;go"
      ],
      "text/plain": [
       "<IPython.core.display.HTML object>"
      ]
     },
     "metadata": {},
     "output_type": "display_data"
    },
    {
     "name": "stdout",
     "output_type": "stream",
     "text": [
      "\n",
      "[ 1350 ] neutral\n"
     ]
    },
    {
     "data": {
      "text/html": [
       "&nbsp;<span style='background:rgb(255,255,0);color:black'>Sydney&nbsp;-&nbsp;Toyota&nbsp;-&nbsp;Landcruiser&nbsp;-&nbsp;1996&nbsp;-&nbsp;$10,000&nbsp;-&nbsp;new&nbsp;ad&nbsp;received&nbsp;and&nbsp;will&nbsp;be&nbsp;posted&nbsp;on&nbsp;the&nbsp;HCC&nbsp;site&nbsp;soon"
      ],
      "text/plain": [
       "<IPython.core.display.HTML object>"
      ]
     },
     "metadata": {},
     "output_type": "display_data"
    },
    {
     "data": {
      "text/html": [
       "<span style='background:rgb(0,0,255);color:red'>&nbsp;Sydney&nbsp;-&nbsp;Toyota&nbsp;-&nbsp;Landcruiser&nbsp;-&nbsp;1996&nbsp;-&nbsp;$10,000&nbsp;-&nbsp;new&nbsp;ad&nbsp;received&nbsp;and&nbsp;will&nbsp;be&nbsp;posted&nbsp;on&nbsp;the&nbsp;HCC&nbsp;site&nbsp;soon"
      ],
      "text/plain": [
       "<IPython.core.display.HTML object>"
      ]
     },
     "metadata": {},
     "output_type": "display_data"
    },
    {
     "name": "stdout",
     "output_type": "stream",
     "text": [
      "\n",
      "[ 1535 ] neutral\n"
     ]
    },
    {
     "data": {
      "text/html": [
       "&nbsp;_spark&nbsp;heheh.&nbsp;<span style='background:rgb(255,255,0);color:black'>Odd&nbsp;though,&nbsp;I&nbsp;thought&nbsp;a&nbsp;couple&nbsp;of&nbsp;the&nbsp;others&nbsp;I`d&nbsp;done&nbsp;were&nbsp;better"
      ],
      "text/plain": [
       "<IPython.core.display.HTML object>"
      ]
     },
     "metadata": {},
     "output_type": "display_data"
    },
    {
     "data": {
      "text/html": [
       "<span style='background:rgb(0,0,255);color:red'>&nbsp;_spark&nbsp;heheh.&nbsp;Odd&nbsp;though,&nbsp;I&nbsp;thought&nbsp;a&nbsp;couple&nbsp;of&nbsp;the&nbsp;others&nbsp;I`d&nbsp;done&nbsp;were&nbsp;better"
      ],
      "text/plain": [
       "<IPython.core.display.HTML object>"
      ]
     },
     "metadata": {},
     "output_type": "display_data"
    },
    {
     "name": "stdout",
     "output_type": "stream",
     "text": [
      "\n",
      "[ 2117 ] neutral\n"
     ]
    },
    {
     "data": {
      "text/html": [
       "&nbsp;<span style='background:rgb(255,255,0);color:black'>Just&nbsp;realized&nbsp;it&nbsp;is&nbsp;friday&nbsp;and&nbsp;b/c&nbsp;of&nbsp;a&nbsp;party&nbsp;I&nbsp;don`t&nbsp;get&nbsp;to&nbsp;go&nbsp;racing."
      ],
      "text/plain": [
       "<IPython.core.display.HTML object>"
      ]
     },
     "metadata": {},
     "output_type": "display_data"
    },
    {
     "data": {
      "text/html": [
       "<span style='background:rgb(0,0,255);color:red'>&nbsp;Just&nbsp;realized&nbsp;it&nbsp;is&nbsp;friday&nbsp;and&nbsp;b/c&nbsp;of&nbsp;a&nbsp;party&nbsp;I&nbsp;don`t&nbsp;get&nbsp;to&nbsp;go&nbsp;racing."
      ],
      "text/plain": [
       "<IPython.core.display.HTML object>"
      ]
     },
     "metadata": {},
     "output_type": "display_data"
    },
    {
     "name": "stdout",
     "output_type": "stream",
     "text": [
      "\n",
      "[ 1323 ] neutral\n"
     ]
    },
    {
     "data": {
      "text/html": [
       "&nbsp;<span style='background:rgb(255,255,0);color:black'>oh&nbsp;that&nbsp;was&nbsp;said&nbsp;perez"
      ],
      "text/plain": [
       "<IPython.core.display.HTML object>"
      ]
     },
     "metadata": {},
     "output_type": "display_data"
    },
    {
     "data": {
      "text/html": [
       "<span style='background:rgb(0,0,255);color:red'>&nbsp;oh&nbsp;that&nbsp;was&nbsp;said&nbsp;perez"
      ],
      "text/plain": [
       "<IPython.core.display.HTML object>"
      ]
     },
     "metadata": {},
     "output_type": "display_data"
    },
    {
     "name": "stdout",
     "output_type": "stream",
     "text": [
      "\n",
      "[ 637 ] neutral\n"
     ]
    },
    {
     "data": {
      "text/html": [
       "&nbsp;<span style='background:rgb(255,255,0);color:black'>says&nbsp;gots&nbsp;my&nbsp;mom&nbsp;a&nbsp;digital&nbsp;picture&nbsp;frame&nbsp;bout&nbsp;to&nbsp;scan&nbsp;pics&nbsp;of&nbsp;her&nbsp;wedding&nbsp;n&nbsp;all&nbsp;that&nbsp;mushy&nbsp;stuff&nbsp;</span>http://plurk.com/p/su3eq"
      ],
      "text/plain": [
       "<IPython.core.display.HTML object>"
      ]
     },
     "metadata": {},
     "output_type": "display_data"
    },
    {
     "data": {
      "text/html": [
       "<span style='background:rgb(0,0,255);color:red'>&nbsp;says&nbsp;gots&nbsp;my&nbsp;mom&nbsp;a&nbsp;digital&nbsp;picture&nbsp;frame&nbsp;bout&nbsp;to&nbsp;scan&nbsp;pics&nbsp;of&nbsp;her&nbsp;wedding&nbsp;n&nbsp;all&nbsp;that&nbsp;mushy&nbsp;stuff&nbsp;http://plurk.com/p/su3eq"
      ],
      "text/plain": [
       "<IPython.core.display.HTML object>"
      ]
     },
     "metadata": {},
     "output_type": "display_data"
    },
    {
     "name": "stdout",
     "output_type": "stream",
     "text": [
      "\n",
      "[ 326 ] neutral\n"
     ]
    },
    {
     "data": {
      "text/html": [
       "&nbsp;<span style='background:rgb(255,255,0);color:black'>ohh&nbsp;shardup!&nbsp;hehe.&nbsp;hes&nbsp;hot&nbsp;lah,&nbsp;gotta&nbsp;admeeet!&nbsp;bleh."
      ],
      "text/plain": [
       "<IPython.core.display.HTML object>"
      ]
     },
     "metadata": {},
     "output_type": "display_data"
    },
    {
     "data": {
      "text/html": [
       "<span style='background:rgb(0,0,255);color:red'>&nbsp;ohh&nbsp;shardup!&nbsp;hehe.&nbsp;hes&nbsp;hot&nbsp;lah,&nbsp;gotta&nbsp;admeeet!&nbsp;bleh."
      ],
      "text/plain": [
       "<IPython.core.display.HTML object>"
      ]
     },
     "metadata": {},
     "output_type": "display_data"
    },
    {
     "name": "stdout",
     "output_type": "stream",
     "text": [
      "\n",
      "[ 231 ] neutral\n"
     ]
    },
    {
     "data": {
      "text/html": [
       "&nbsp;<span style='background:rgb(255,255,0);color:black'>and&nbsp;young&nbsp;ones....'look&nbsp;what&nbsp;I&nbsp;found'....'breakfast'...."
      ],
      "text/plain": [
       "<IPython.core.display.HTML object>"
      ]
     },
     "metadata": {},
     "output_type": "display_data"
    },
    {
     "data": {
      "text/html": [
       "<span style='background:rgb(0,0,255);color:red'>&nbsp;and&nbsp;young&nbsp;ones....'look&nbsp;what&nbsp;I&nbsp;found'....'breakfast'...."
      ],
      "text/plain": [
       "<IPython.core.display.HTML object>"
      ]
     },
     "metadata": {},
     "output_type": "display_data"
    },
    {
     "name": "stdout",
     "output_type": "stream",
     "text": [
      "\n",
      "[ 2074 ] neutral\n"
     ]
    },
    {
     "data": {
      "text/html": [
       "&nbsp;<span style='background:rgb(255,255,0);color:black'>did&nbsp;you&nbsp;drink&nbsp;too&nbsp;much?&nbsp;the&nbsp;best&nbsp;cure&nbsp;is&nbsp;a&nbsp;fry&nbsp;up"
      ],
      "text/plain": [
       "<IPython.core.display.HTML object>"
      ]
     },
     "metadata": {},
     "output_type": "display_data"
    },
    {
     "data": {
      "text/html": [
       "<span style='background:rgb(0,0,255);color:red'>&nbsp;did&nbsp;you&nbsp;drink&nbsp;too&nbsp;much?&nbsp;the&nbsp;best&nbsp;cure&nbsp;is&nbsp;a&nbsp;fry&nbsp;up"
      ],
      "text/plain": [
       "<IPython.core.display.HTML object>"
      ]
     },
     "metadata": {},
     "output_type": "display_data"
    },
    {
     "name": "stdout",
     "output_type": "stream",
     "text": [
      "\n",
      "[ 937 ] neutral\n"
     ]
    },
    {
     "data": {
      "text/html": [
       "&nbsp;<span style='background:rgb(255,255,0);color:black'>always&nbsp;write&nbsp;holy&nbsp;words&nbsp;in&nbsp;capital&nbsp;dude,&nbsp;ALLAH&nbsp;HAFIZ&nbsp;!"
      ],
      "text/plain": [
       "<IPython.core.display.HTML object>"
      ]
     },
     "metadata": {},
     "output_type": "display_data"
    },
    {
     "data": {
      "text/html": [
       "<span style='background:rgb(0,0,255);color:red'>&nbsp;always&nbsp;write&nbsp;holy&nbsp;words&nbsp;in&nbsp;capital&nbsp;dude,&nbsp;ALLAH&nbsp;HAFIZ&nbsp;!"
      ],
      "text/plain": [
       "<IPython.core.display.HTML object>"
      ]
     },
     "metadata": {},
     "output_type": "display_data"
    },
    {
     "name": "stdout",
     "output_type": "stream",
     "text": [
      "\n",
      "[ 619 ] neutral\n"
     ]
    },
    {
     "data": {
      "text/html": [
       "&nbsp;<span style='background:rgb(255,255,0);color:black'>is&nbsp;sitting&nbsp;at&nbsp;home&nbsp;wishing&nbsp;that&nbsp;i&nbsp;didnt&nbsp;have&nbsp;to&nbsp;work&nbsp;today.&nbsp;ask&nbsp;for&nbsp;it&nbsp;off&nbsp;and&nbsp;still&nbsp;have&nbsp;to&nbsp;work"
      ],
      "text/plain": [
       "<IPython.core.display.HTML object>"
      ]
     },
     "metadata": {},
     "output_type": "display_data"
    },
    {
     "data": {
      "text/html": [
       "<span style='background:rgb(0,0,255);color:red'>&nbsp;is&nbsp;sitting&nbsp;at&nbsp;home&nbsp;wishing&nbsp;that&nbsp;i&nbsp;didnt&nbsp;have&nbsp;to&nbsp;work&nbsp;today.&nbsp;ask&nbsp;for&nbsp;it&nbsp;off&nbsp;and&nbsp;still&nbsp;have&nbsp;to&nbsp;work"
      ],
      "text/plain": [
       "<IPython.core.display.HTML object>"
      ]
     },
     "metadata": {},
     "output_type": "display_data"
    },
    {
     "name": "stdout",
     "output_type": "stream",
     "text": [
      "\n",
      "[ 418 ] neutral\n"
     ]
    },
    {
     "data": {
      "text/html": [
       "&nbsp;<span style='background:rgb(255,255,0);color:black'>then&nbsp;maybe&nbsp;we&nbsp;should&nbsp;ask&nbsp;Him&nbsp;for&nbsp;a&nbsp;raise."
      ],
      "text/plain": [
       "<IPython.core.display.HTML object>"
      ]
     },
     "metadata": {},
     "output_type": "display_data"
    },
    {
     "data": {
      "text/html": [
       "<span style='background:rgb(0,0,255);color:red'>&nbsp;then&nbsp;maybe&nbsp;we&nbsp;should&nbsp;ask&nbsp;Him&nbsp;for&nbsp;a&nbsp;raise."
      ],
      "text/plain": [
       "<IPython.core.display.HTML object>"
      ]
     },
     "metadata": {},
     "output_type": "display_data"
    },
    {
     "name": "stdout",
     "output_type": "stream",
     "text": [
      "\n",
      "[ 661 ] neutral\n"
     ]
    },
    {
     "data": {
      "text/html": [
       "&nbsp;<span style='background:rgb(255,255,0);color:black'>don`t&nbsp;you&nbsp;agree?"
      ],
      "text/plain": [
       "<IPython.core.display.HTML object>"
      ]
     },
     "metadata": {},
     "output_type": "display_data"
    },
    {
     "data": {
      "text/html": [
       "<span style='background:rgb(0,0,255);color:red'>&nbsp;don`t&nbsp;you&nbsp;agree?"
      ],
      "text/plain": [
       "<IPython.core.display.HTML object>"
      ]
     },
     "metadata": {},
     "output_type": "display_data"
    },
    {
     "name": "stdout",
     "output_type": "stream",
     "text": [
      "\n",
      "[model_3.csv]\n",
      "[ 1467 ] neutral\n"
     ]
    },
    {
     "data": {
      "text/html": [
       "&nbsp;<span style='background:rgb(255,255,0);color:black'>Same&nbsp;here!&nbsp;I&nbsp;just&nbsp;wanted&nbsp;it&nbsp;to&nbsp;keep&nbsp;going&nbsp;and&nbsp;not&nbsp;end...&nbsp;ever!&nbsp;;)"
      ],
      "text/plain": [
       "<IPython.core.display.HTML object>"
      ]
     },
     "metadata": {},
     "output_type": "display_data"
    },
    {
     "data": {
      "text/html": [
       "<span style='background:rgb(0,0,255);color:red'>&nbsp;Same&nbsp;here!&nbsp;I&nbsp;just&nbsp;wanted&nbsp;it&nbsp;to&nbsp;keep&nbsp;going&nbsp;and&nbsp;not&nbsp;end...&nbsp;ever!&nbsp;;)"
      ],
      "text/plain": [
       "<IPython.core.display.HTML object>"
      ]
     },
     "metadata": {},
     "output_type": "display_data"
    },
    {
     "name": "stdout",
     "output_type": "stream",
     "text": [
      "\n",
      "[ 1653 ] neutral\n"
     ]
    },
    {
     "data": {
      "text/html": [
       "&nbsp;<span style='background:rgb(255,255,0);color:black'>My&nbsp;wife&nbsp;took&nbsp;my&nbsp;last&nbsp;ï¿½20,&nbsp;no&nbsp;McDonalds&nbsp;breakfast&nbsp;for&nbsp;me&nbsp;today"
      ],
      "text/plain": [
       "<IPython.core.display.HTML object>"
      ]
     },
     "metadata": {},
     "output_type": "display_data"
    },
    {
     "data": {
      "text/html": [
       "<span style='background:rgb(0,0,255);color:red'>&nbsp;My&nbsp;wife&nbsp;took&nbsp;my&nbsp;last&nbsp;ï¿½20,&nbsp;no&nbsp;McDonalds&nbsp;breakfast&nbsp;for&nbsp;me&nbsp;today"
      ],
      "text/plain": [
       "<IPython.core.display.HTML object>"
      ]
     },
     "metadata": {},
     "output_type": "display_data"
    },
    {
     "name": "stdout",
     "output_type": "stream",
     "text": [
      "\n",
      "[ 1244 ] neutral\n"
     ]
    },
    {
     "data": {
      "text/html": [
       "&nbsp;<span style='background:rgb(255,255,0);color:black'>It`s&nbsp;not&nbsp;much&nbsp;better&nbsp;than&nbsp;instant."
      ],
      "text/plain": [
       "<IPython.core.display.HTML object>"
      ]
     },
     "metadata": {},
     "output_type": "display_data"
    },
    {
     "data": {
      "text/html": [
       "<span style='background:rgb(0,0,255);color:red'>&nbsp;It`s&nbsp;not&nbsp;much&nbsp;better&nbsp;than&nbsp;instant."
      ],
      "text/plain": [
       "<IPython.core.display.HTML object>"
      ]
     },
     "metadata": {},
     "output_type": "display_data"
    },
    {
     "name": "stdout",
     "output_type": "stream",
     "text": [
      "\n",
      "[ 636 ] neutral\n"
     ]
    },
    {
     "data": {
      "text/html": [
       "&nbsp;<span style='background:rgb(255,255,0);color:black'>i&nbsp;never&nbsp;get&nbsp;any&nbsp;followfridays"
      ],
      "text/plain": [
       "<IPython.core.display.HTML object>"
      ]
     },
     "metadata": {},
     "output_type": "display_data"
    },
    {
     "data": {
      "text/html": [
       "<span style='background:rgb(0,0,255);color:red'>&nbsp;i&nbsp;never&nbsp;get&nbsp;any&nbsp;followfridays"
      ],
      "text/plain": [
       "<IPython.core.display.HTML object>"
      ]
     },
     "metadata": {},
     "output_type": "display_data"
    },
    {
     "name": "stdout",
     "output_type": "stream",
     "text": [
      "\n",
      "[ 1551 ] neutral\n"
     ]
    },
    {
     "data": {
      "text/html": [
       "&nbsp;<span style='background:rgb(255,255,0);color:black'>Is&nbsp;waiting&nbsp;for&nbsp;Foreigner&nbsp;start"
      ],
      "text/plain": [
       "<IPython.core.display.HTML object>"
      ]
     },
     "metadata": {},
     "output_type": "display_data"
    },
    {
     "data": {
      "text/html": [
       "<span style='background:rgb(0,0,255);color:red'>&nbsp;Is&nbsp;waiting&nbsp;for&nbsp;Foreigner&nbsp;start"
      ],
      "text/plain": [
       "<IPython.core.display.HTML object>"
      ]
     },
     "metadata": {},
     "output_type": "display_data"
    },
    {
     "name": "stdout",
     "output_type": "stream",
     "text": [
      "\n",
      "[ 968 ] neutral\n"
     ]
    },
    {
     "data": {
      "text/html": [
       "&nbsp;http://tinyurl.com/d4l3o<span style='background:rgb(255,255,0);color:black'>e&nbsp;Desktop&nbsp;wallpaper&nbsp;like&nbsp;the&nbsp;inside&nbsp;of&nbsp;a&nbsp;monitor"
      ],
      "text/plain": [
       "<IPython.core.display.HTML object>"
      ]
     },
     "metadata": {},
     "output_type": "display_data"
    },
    {
     "data": {
      "text/html": [
       "<span style='background:rgb(0,0,255);color:red'>&nbsp;http://tinyurl.com/d4l3oe&nbsp;Desktop&nbsp;wallpaper&nbsp;like&nbsp;the&nbsp;inside&nbsp;of&nbsp;a&nbsp;monitor"
      ],
      "text/plain": [
       "<IPython.core.display.HTML object>"
      ]
     },
     "metadata": {},
     "output_type": "display_data"
    },
    {
     "name": "stdout",
     "output_type": "stream",
     "text": [
      "\n",
      "[ 930 ] neutral\n"
     ]
    },
    {
     "data": {
      "text/html": [
       "&nbsp;<span style='background:rgb(255,255,0);color:black'>Have&nbsp;you&nbsp;seen&nbsp;Wolverine?&nbsp;Might&nbsp;want&nbsp;to&nbsp;change&nbsp;that&nbsp;pic.&nbsp;There`s&nbsp;a&nbsp;new&nbsp;sheriff&nbsp;in&nbsp;town.</span>"
      ],
      "text/plain": [
       "<IPython.core.display.HTML object>"
      ]
     },
     "metadata": {},
     "output_type": "display_data"
    },
    {
     "data": {
      "text/html": [
       "<span style='background:rgb(0,0,255);color:red'>&nbsp;Have&nbsp;you&nbsp;seen&nbsp;Wolverine?&nbsp;Might&nbsp;want&nbsp;to&nbsp;change&nbsp;that&nbsp;pic.&nbsp;There`s&nbsp;a&nbsp;new&nbsp;sheriff&nbsp;in&nbsp;town."
      ],
      "text/plain": [
       "<IPython.core.display.HTML object>"
      ]
     },
     "metadata": {},
     "output_type": "display_data"
    },
    {
     "name": "stdout",
     "output_type": "stream",
     "text": [
      "\n",
      "[ 904 ] neutral\n"
     ]
    },
    {
     "data": {
      "text/html": [
       "&nbsp;<span style='background:rgb(255,255,0);color:black'>_ary&nbsp;aaaww&nbsp;fall&nbsp;for&nbsp;you&nbsp;of&nbsp;courseeee"
      ],
      "text/plain": [
       "<IPython.core.display.HTML object>"
      ]
     },
     "metadata": {},
     "output_type": "display_data"
    },
    {
     "data": {
      "text/html": [
       "<span style='background:rgb(0,0,255);color:red'>&nbsp;_ary&nbsp;aaaww&nbsp;fall&nbsp;for&nbsp;you&nbsp;of&nbsp;courseeee"
      ],
      "text/plain": [
       "<IPython.core.display.HTML object>"
      ]
     },
     "metadata": {},
     "output_type": "display_data"
    },
    {
     "name": "stdout",
     "output_type": "stream",
     "text": [
      "\n",
      "[ 2012 ] neutral\n"
     ]
    },
    {
     "data": {
      "text/html": [
       "&nbsp;<span style='background:rgb(255,255,0);color:black'>`Don`t&nbsp;call&nbsp;your&nbsp;mother,&nbsp;`cause&nbsp;now&nbsp;we`re&nbsp;partners&nbsp;in&nbsp;crime.`&nbsp;-KP"
      ],
      "text/plain": [
       "<IPython.core.display.HTML object>"
      ]
     },
     "metadata": {},
     "output_type": "display_data"
    },
    {
     "data": {
      "text/html": [
       "<span style='background:rgb(0,0,255);color:red'>&nbsp;`Don`t&nbsp;call&nbsp;your&nbsp;mother,&nbsp;`cause&nbsp;now&nbsp;we`re&nbsp;partners&nbsp;in&nbsp;crime.`&nbsp;-KP"
      ],
      "text/plain": [
       "<IPython.core.display.HTML object>"
      ]
     },
     "metadata": {},
     "output_type": "display_data"
    },
    {
     "name": "stdout",
     "output_type": "stream",
     "text": [
      "\n",
      "[ 1734 ] neutral\n"
     ]
    },
    {
     "data": {
      "text/html": [
       "&nbsp;<span style='background:rgb(255,255,0);color:black'>Not&nbsp;addicted,&nbsp;just&nbsp;sociable."
      ],
      "text/plain": [
       "<IPython.core.display.HTML object>"
      ]
     },
     "metadata": {},
     "output_type": "display_data"
    },
    {
     "data": {
      "text/html": [
       "<span style='background:rgb(0,0,255);color:red'>&nbsp;Not&nbsp;addicted,&nbsp;just&nbsp;sociable."
      ],
      "text/plain": [
       "<IPython.core.display.HTML object>"
      ]
     },
     "metadata": {},
     "output_type": "display_data"
    },
    {
     "name": "stdout",
     "output_type": "stream",
     "text": [
      "\n",
      "[ 731 ] neutral\n"
     ]
    },
    {
     "data": {
      "text/html": [
       "&nbsp;<span style='background:rgb(255,255,0);color:black'>_illustrated&nbsp;Me&nbsp;Too!&nbsp;Its&nbsp;hard&nbsp;to&nbsp;argue&nbsp;w/&nbsp;him&nbsp;`cause&nbsp;he&nbsp;makes&nbsp;some&nbsp;great&nbsp;points,&nbsp;i&nbsp;just&nbsp;can`t&nbsp;wrap&nbsp;my&nbsp;heart&nbsp;around&nbsp;that&nbsp;one"
      ],
      "text/plain": [
       "<IPython.core.display.HTML object>"
      ]
     },
     "metadata": {},
     "output_type": "display_data"
    },
    {
     "data": {
      "text/html": [
       "<span style='background:rgb(0,0,255);color:red'>&nbsp;_illustrated&nbsp;Me&nbsp;Too!&nbsp;Its&nbsp;hard&nbsp;to&nbsp;argue&nbsp;w/&nbsp;him&nbsp;`cause&nbsp;he&nbsp;makes&nbsp;some&nbsp;great&nbsp;points,&nbsp;i&nbsp;just&nbsp;can`t&nbsp;wrap&nbsp;my&nbsp;heart&nbsp;around&nbsp;that&nbsp;one"
      ],
      "text/plain": [
       "<IPython.core.display.HTML object>"
      ]
     },
     "metadata": {},
     "output_type": "display_data"
    },
    {
     "name": "stdout",
     "output_type": "stream",
     "text": [
      "\n",
      "[ 486 ] neutral\n"
     ]
    },
    {
     "data": {
      "text/html": [
       "&nbsp;<span style='background:rgb(255,255,0);color:black'>Truly?&nbsp;Like&nbsp;what?"
      ],
      "text/plain": [
       "<IPython.core.display.HTML object>"
      ]
     },
     "metadata": {},
     "output_type": "display_data"
    },
    {
     "data": {
      "text/html": [
       "<span style='background:rgb(0,0,255);color:red'>&nbsp;Truly?&nbsp;Like&nbsp;what?"
      ],
      "text/plain": [
       "<IPython.core.display.HTML object>"
      ]
     },
     "metadata": {},
     "output_type": "display_data"
    },
    {
     "name": "stdout",
     "output_type": "stream",
     "text": [
      "\n",
      "[ 1443 ] neutral\n"
     ]
    },
    {
     "data": {
      "text/html": [
       "&nbsp;<span style='background:rgb(255,255,0);color:black'>is&nbsp;watching&nbsp;the&nbsp;jonas&nbsp;brothers&nbsp;special&nbsp;on&nbsp;sky&nbsp;movies"
      ],
      "text/plain": [
       "<IPython.core.display.HTML object>"
      ]
     },
     "metadata": {},
     "output_type": "display_data"
    },
    {
     "data": {
      "text/html": [
       "<span style='background:rgb(0,0,255);color:red'>&nbsp;is&nbsp;watching&nbsp;the&nbsp;jonas&nbsp;brothers&nbsp;special&nbsp;on&nbsp;sky&nbsp;movies"
      ],
      "text/plain": [
       "<IPython.core.display.HTML object>"
      ]
     },
     "metadata": {},
     "output_type": "display_data"
    },
    {
     "name": "stdout",
     "output_type": "stream",
     "text": [
      "\n",
      "[ 1671 ] neutral\n"
     ]
    },
    {
     "data": {
      "text/html": [
       "&nbsp;<span style='background:rgb(255,255,0);color:black'>got&nbsp;a&nbsp;new&nbsp;prom&nbsp;dress"
      ],
      "text/plain": [
       "<IPython.core.display.HTML object>"
      ]
     },
     "metadata": {},
     "output_type": "display_data"
    },
    {
     "data": {
      "text/html": [
       "<span style='background:rgb(0,0,255);color:red'>&nbsp;got&nbsp;a&nbsp;new&nbsp;prom&nbsp;dress"
      ],
      "text/plain": [
       "<IPython.core.display.HTML object>"
      ]
     },
     "metadata": {},
     "output_type": "display_data"
    },
    {
     "name": "stdout",
     "output_type": "stream",
     "text": [
      "\n",
      "[ 28 ] neutral\n"
     ]
    },
    {
     "data": {
      "text/html": [
       "&nbsp;<span style='background:rgb(255,255,0);color:black'>had&nbsp;a&nbsp;great&nbsp;time&nbsp;out&nbsp;in&nbsp;the&nbsp;beer&nbsp;garden&nbsp;wit&nbsp;the&nbsp;boyos&nbsp;!!&nbsp;I&nbsp;think&nbsp;the&nbsp;sun&nbsp;got&nbsp;to&nbsp;me&nbsp;a&nbsp;bit&nbsp;though,&nbsp;feel&nbsp;a&nbsp;bit&nbsp;ill&nbsp;!!"
      ],
      "text/plain": [
       "<IPython.core.display.HTML object>"
      ]
     },
     "metadata": {},
     "output_type": "display_data"
    },
    {
     "data": {
      "text/html": [
       "<span style='background:rgb(0,0,255);color:red'>&nbsp;had&nbsp;a&nbsp;great&nbsp;time&nbsp;out&nbsp;in&nbsp;the&nbsp;beer&nbsp;garden&nbsp;wit&nbsp;the&nbsp;boyos&nbsp;!!&nbsp;I&nbsp;think&nbsp;the&nbsp;sun&nbsp;got&nbsp;to&nbsp;me&nbsp;a&nbsp;bit&nbsp;though,&nbsp;feel&nbsp;a&nbsp;bit&nbsp;ill&nbsp;!!"
      ],
      "text/plain": [
       "<IPython.core.display.HTML object>"
      ]
     },
     "metadata": {},
     "output_type": "display_data"
    },
    {
     "name": "stdout",
     "output_type": "stream",
     "text": [
      "\n",
      "[ 2102 ] neutral\n"
     ]
    },
    {
     "data": {
      "text/html": [
       "&nbsp;_x&nbsp;<span style='background:rgb(255,255,0);color:black'>i&nbsp;was&nbsp;listening&nbsp;to&nbsp;that&nbsp;earlier&nbsp;and&nbsp;the&nbsp;other&nbsp;day,&nbsp;i&nbsp;was&nbsp;planning&nbsp;something&nbsp;with&nbsp;my&nbsp;friends&nbsp;and&nbsp;i&nbsp;said&nbsp;that.&nbsp;they&nbsp;were&nbsp;..."
      ],
      "text/plain": [
       "<IPython.core.display.HTML object>"
      ]
     },
     "metadata": {},
     "output_type": "display_data"
    },
    {
     "data": {
      "text/html": [
       "<span style='background:rgb(0,0,255);color:red'>&nbsp;_x&nbsp;i&nbsp;was&nbsp;listening&nbsp;to&nbsp;that&nbsp;earlier&nbsp;and&nbsp;the&nbsp;other&nbsp;day,&nbsp;i&nbsp;was&nbsp;planning&nbsp;something&nbsp;with&nbsp;my&nbsp;friends&nbsp;and&nbsp;i&nbsp;said&nbsp;that.&nbsp;they&nbsp;were&nbsp;..."
      ],
      "text/plain": [
       "<IPython.core.display.HTML object>"
      ]
     },
     "metadata": {},
     "output_type": "display_data"
    },
    {
     "name": "stdout",
     "output_type": "stream",
     "text": [
      "\n",
      "[ 1388 ] neutral\n"
     ]
    },
    {
     "data": {
      "text/html": [
       "&nbsp;<span style='background:rgb(255,255,0);color:black'>We&nbsp;keep&nbsp;very&nbsp;different&nbsp;hours.</span>"
      ],
      "text/plain": [
       "<IPython.core.display.HTML object>"
      ]
     },
     "metadata": {},
     "output_type": "display_data"
    },
    {
     "data": {
      "text/html": [
       "<span style='background:rgb(0,0,255);color:red'>&nbsp;We&nbsp;keep&nbsp;very&nbsp;different&nbsp;hours."
      ],
      "text/plain": [
       "<IPython.core.display.HTML object>"
      ]
     },
     "metadata": {},
     "output_type": "display_data"
    },
    {
     "name": "stdout",
     "output_type": "stream",
     "text": [
      "\n",
      "[ 330 ] neutral\n"
     ]
    },
    {
     "data": {
      "text/html": [
       "&nbsp;<span style='background:rgb(255,255,0);color:black'>I&nbsp;want&nbsp;my&nbsp;Katie."
      ],
      "text/plain": [
       "<IPython.core.display.HTML object>"
      ]
     },
     "metadata": {},
     "output_type": "display_data"
    },
    {
     "data": {
      "text/html": [
       "<span style='background:rgb(0,0,255);color:red'>&nbsp;I&nbsp;want&nbsp;my&nbsp;Katie."
      ],
      "text/plain": [
       "<IPython.core.display.HTML object>"
      ]
     },
     "metadata": {},
     "output_type": "display_data"
    },
    {
     "name": "stdout",
     "output_type": "stream",
     "text": [
      "\n",
      "[ 944 ] neutral\n"
     ]
    },
    {
     "data": {
      "text/html": [
       "&nbsp;<span style='background:rgb(255,255,0);color:black'>living&nbsp;in&nbsp;harlem,&nbsp;i&nbsp;can&nbsp;say&nbsp;for&nbsp;sure&nbsp;that&nbsp;there&nbsp;is&nbsp;far&nbsp;more&nbsp;pollution&nbsp;here&nbsp;than&nbsp;in&nbsp;other&nbsp;parts&nbsp;of&nbsp;nyc&nbsp;where&nbsp;i`ve&nbsp;lived."
      ],
      "text/plain": [
       "<IPython.core.display.HTML object>"
      ]
     },
     "metadata": {},
     "output_type": "display_data"
    },
    {
     "data": {
      "text/html": [
       "<span style='background:rgb(0,0,255);color:red'>&nbsp;living&nbsp;in&nbsp;harlem,&nbsp;i&nbsp;can&nbsp;say&nbsp;for&nbsp;sure&nbsp;that&nbsp;there&nbsp;is&nbsp;far&nbsp;more&nbsp;pollution&nbsp;here&nbsp;than&nbsp;in&nbsp;other&nbsp;parts&nbsp;of&nbsp;nyc&nbsp;where&nbsp;i`ve&nbsp;lived."
      ],
      "text/plain": [
       "<IPython.core.display.HTML object>"
      ]
     },
     "metadata": {},
     "output_type": "display_data"
    },
    {
     "name": "stdout",
     "output_type": "stream",
     "text": [
      "\n",
      "[ 109 ] neutral\n"
     ]
    },
    {
     "data": {
      "text/html": [
       "&nbsp;<span style='background:rgb(255,255,0);color:black'>there`s&nbsp;no&nbsp;point&nbsp;in&nbsp;bein&nbsp;on&nbsp;here&nbsp;if&nbsp;no&nbsp;one&nbsp;else&nbsp;in&nbsp;on"
      ],
      "text/plain": [
       "<IPython.core.display.HTML object>"
      ]
     },
     "metadata": {},
     "output_type": "display_data"
    },
    {
     "data": {
      "text/html": [
       "<span style='background:rgb(0,0,255);color:red'>&nbsp;there`s&nbsp;no&nbsp;point&nbsp;in&nbsp;bein&nbsp;on&nbsp;here&nbsp;if&nbsp;no&nbsp;one&nbsp;else&nbsp;in&nbsp;on"
      ],
      "text/plain": [
       "<IPython.core.display.HTML object>"
      ]
     },
     "metadata": {},
     "output_type": "display_data"
    },
    {
     "name": "stdout",
     "output_type": "stream",
     "text": [
      "\n",
      "[model_4.csv]\n",
      "[ 1780 ] neutral\n"
     ]
    },
    {
     "data": {
      "text/html": [
       "&nbsp;<span style='background:rgb(255,255,0);color:black'>my&nbsp;grandpa&nbsp;called,&nbsp;wants&nbsp;to&nbsp;know&nbsp;what&nbsp;you&nbsp;are&nbsp;doing&nbsp;with&nbsp;his&nbsp;hat..&nbsp;and&nbsp;when&nbsp;you&nbsp;plan&nbsp;to&nbsp;return&nbsp;it"
      ],
      "text/plain": [
       "<IPython.core.display.HTML object>"
      ]
     },
     "metadata": {},
     "output_type": "display_data"
    },
    {
     "data": {
      "text/html": [
       "<span style='background:rgb(0,0,255);color:red'>&nbsp;my&nbsp;grandpa&nbsp;called,&nbsp;wants&nbsp;to&nbsp;know&nbsp;what&nbsp;you&nbsp;are&nbsp;doing&nbsp;with&nbsp;his&nbsp;hat..&nbsp;and&nbsp;when&nbsp;you&nbsp;plan&nbsp;to&nbsp;return&nbsp;it"
      ],
      "text/plain": [
       "<IPython.core.display.HTML object>"
      ]
     },
     "metadata": {},
     "output_type": "display_data"
    },
    {
     "name": "stdout",
     "output_type": "stream",
     "text": [
      "\n",
      "[ 304 ] neutral\n"
     ]
    },
    {
     "data": {
      "text/html": [
       "&nbsp;<span style='background:rgb(255,255,0);color:black'>just&nbsp;got&nbsp;on&nbsp;twitter.&nbsp;no&nbsp;friends&nbsp;to&nbsp;add!&nbsp;none&nbsp;of&nbsp;my&nbsp;friends&nbsp;are&nbsp;in&nbsp;twitter"
      ],
      "text/plain": [
       "<IPython.core.display.HTML object>"
      ]
     },
     "metadata": {},
     "output_type": "display_data"
    },
    {
     "data": {
      "text/html": [
       "<span style='background:rgb(0,0,255);color:red'>&nbsp;just&nbsp;got&nbsp;on&nbsp;twitter.&nbsp;no&nbsp;friends&nbsp;to&nbsp;add!&nbsp;none&nbsp;of&nbsp;my&nbsp;friends&nbsp;are&nbsp;in&nbsp;twitter"
      ],
      "text/plain": [
       "<IPython.core.display.HTML object>"
      ]
     },
     "metadata": {},
     "output_type": "display_data"
    },
    {
     "name": "stdout",
     "output_type": "stream",
     "text": [
      "\n",
      "[ 2186 ] neutral\n"
     ]
    },
    {
     "data": {
      "text/html": [
       "&nbsp;<span style='background:rgb(255,255,0);color:black'>92.7&nbsp;is&nbsp;turning&nbsp;it&nbsp;right&nbsp;about&nbsp;now."
      ],
      "text/plain": [
       "<IPython.core.display.HTML object>"
      ]
     },
     "metadata": {},
     "output_type": "display_data"
    },
    {
     "data": {
      "text/html": [
       "<span style='background:rgb(0,0,255);color:red'>&nbsp;92.7&nbsp;is&nbsp;turning&nbsp;it&nbsp;right&nbsp;about&nbsp;now."
      ],
      "text/plain": [
       "<IPython.core.display.HTML object>"
      ]
     },
     "metadata": {},
     "output_type": "display_data"
    },
    {
     "name": "stdout",
     "output_type": "stream",
     "text": [
      "\n",
      "[ 577 ] neutral\n"
     ]
    },
    {
     "data": {
      "text/html": [
       "&nbsp;<span style='background:rgb(255,255,0);color:black'>Up&nbsp;and&nbsp;packing.&nbsp;Its&nbsp;the&nbsp;last&nbsp;day&nbsp;of&nbsp;youth&nbsp;camp"
      ],
      "text/plain": [
       "<IPython.core.display.HTML object>"
      ]
     },
     "metadata": {},
     "output_type": "display_data"
    },
    {
     "data": {
      "text/html": [
       "<span style='background:rgb(0,0,255);color:red'>&nbsp;Up&nbsp;and&nbsp;packing.&nbsp;Its&nbsp;the&nbsp;last&nbsp;day&nbsp;of&nbsp;youth&nbsp;camp"
      ],
      "text/plain": [
       "<IPython.core.display.HTML object>"
      ]
     },
     "metadata": {},
     "output_type": "display_data"
    },
    {
     "name": "stdout",
     "output_type": "stream",
     "text": [
      "\n",
      "[ 1956 ] neutral\n"
     ]
    },
    {
     "data": {
      "text/html": [
       "&nbsp;<span style='background:rgb(255,255,0);color:black'>Changing&nbsp;Guitar&nbsp;strings..&nbsp;Getting&nbsp;Ready&nbsp;To&nbsp;Perform&nbsp;`THE&nbsp;CLIMB`&nbsp;at&nbsp;my&nbsp;cousins&nbsp;birthdayy"
      ],
      "text/plain": [
       "<IPython.core.display.HTML object>"
      ]
     },
     "metadata": {},
     "output_type": "display_data"
    },
    {
     "data": {
      "text/html": [
       "<span style='background:rgb(0,0,255);color:red'>&nbsp;Changing&nbsp;Guitar&nbsp;strings..&nbsp;Getting&nbsp;Ready&nbsp;To&nbsp;Perform&nbsp;`THE&nbsp;CLIMB`&nbsp;at&nbsp;my&nbsp;cousins&nbsp;birthdayy"
      ],
      "text/plain": [
       "<IPython.core.display.HTML object>"
      ]
     },
     "metadata": {},
     "output_type": "display_data"
    },
    {
     "name": "stdout",
     "output_type": "stream",
     "text": [
      "\n",
      "[ 1289 ] neutral\n"
     ]
    },
    {
     "data": {
      "text/html": [
       "&nbsp;<span style='background:rgb(255,255,0);color:black'>check&nbsp;it&nbsp;out&nbsp;check&nbsp;it&nbsp;out&nbsp;check&nbsp;it&nbsp;out."
      ],
      "text/plain": [
       "<IPython.core.display.HTML object>"
      ]
     },
     "metadata": {},
     "output_type": "display_data"
    },
    {
     "data": {
      "text/html": [
       "<span style='background:rgb(0,0,255);color:red'>&nbsp;check&nbsp;it&nbsp;out&nbsp;check&nbsp;it&nbsp;out&nbsp;check&nbsp;it&nbsp;out."
      ],
      "text/plain": [
       "<IPython.core.display.HTML object>"
      ]
     },
     "metadata": {},
     "output_type": "display_data"
    },
    {
     "name": "stdout",
     "output_type": "stream",
     "text": [
      "\n",
      "[ 2022 ] neutral\n"
     ]
    },
    {
     "data": {
      "text/html": [
       "&nbsp;<span style='background:rgb(255,255,0);color:black'>still&nbsp;awake..doing&nbsp;my&nbsp;assignments&nbsp;and&nbsp;playing&nbsp;virtual&nbsp;farming"
      ],
      "text/plain": [
       "<IPython.core.display.HTML object>"
      ]
     },
     "metadata": {},
     "output_type": "display_data"
    },
    {
     "data": {
      "text/html": [
       "<span style='background:rgb(0,0,255);color:red'>&nbsp;still&nbsp;awake..doing&nbsp;my&nbsp;assignments&nbsp;and&nbsp;playing&nbsp;virtual&nbsp;farming"
      ],
      "text/plain": [
       "<IPython.core.display.HTML object>"
      ]
     },
     "metadata": {},
     "output_type": "display_data"
    },
    {
     "name": "stdout",
     "output_type": "stream",
     "text": [
      "\n",
      "[ 79 ] neutral\n"
     ]
    },
    {
     "data": {
      "text/html": [
       "&nbsp;<span style='background:rgb(255,255,0);color:black'>My&nbsp;legs&nbsp;are&nbsp;killing&nbsp;me&nbsp;now.&nbsp;but&nbsp;i&nbsp;know&nbsp;it`s&nbsp;a&nbsp;good&nbsp;pain&nbsp;all&nbsp;in&nbsp;all."
      ],
      "text/plain": [
       "<IPython.core.display.HTML object>"
      ]
     },
     "metadata": {},
     "output_type": "display_data"
    },
    {
     "data": {
      "text/html": [
       "<span style='background:rgb(0,0,255);color:red'>&nbsp;My&nbsp;legs&nbsp;are&nbsp;killing&nbsp;me&nbsp;now.&nbsp;but&nbsp;i&nbsp;know&nbsp;it`s&nbsp;a&nbsp;good&nbsp;pain&nbsp;all&nbsp;in&nbsp;all."
      ],
      "text/plain": [
       "<IPython.core.display.HTML object>"
      ]
     },
     "metadata": {},
     "output_type": "display_data"
    },
    {
     "name": "stdout",
     "output_type": "stream",
     "text": [
      "\n",
      "[ 1096 ] neutral\n"
     ]
    },
    {
     "data": {
      "text/html": [
       "&nbsp;<span style='background:rgb(255,255,0);color:black'>Appending&nbsp;the&nbsp;#verticalchinese&nbsp;hash&nbsp;tag&nbsp;is&nbsp;a&nbsp;nice&nbsp;touch."
      ],
      "text/plain": [
       "<IPython.core.display.HTML object>"
      ]
     },
     "metadata": {},
     "output_type": "display_data"
    },
    {
     "data": {
      "text/html": [
       "<span style='background:rgb(0,0,255);color:red'>&nbsp;Appending&nbsp;the&nbsp;#verticalchinese&nbsp;hash&nbsp;tag&nbsp;is&nbsp;a&nbsp;nice&nbsp;touch."
      ],
      "text/plain": [
       "<IPython.core.display.HTML object>"
      ]
     },
     "metadata": {},
     "output_type": "display_data"
    },
    {
     "name": "stdout",
     "output_type": "stream",
     "text": [
      "\n",
      "[ 981 ] neutral\n"
     ]
    },
    {
     "data": {
      "text/html": [
       "&nbsp;<span style='background:rgb(255,255,0);color:black'>not&nbsp;me&nbsp;sigh"
      ],
      "text/plain": [
       "<IPython.core.display.HTML object>"
      ]
     },
     "metadata": {},
     "output_type": "display_data"
    },
    {
     "data": {
      "text/html": [
       "<span style='background:rgb(0,0,255);color:red'>&nbsp;not&nbsp;me&nbsp;sigh"
      ],
      "text/plain": [
       "<IPython.core.display.HTML object>"
      ]
     },
     "metadata": {},
     "output_type": "display_data"
    },
    {
     "name": "stdout",
     "output_type": "stream",
     "text": [
      "\n",
      "[ 416 ] neutral\n"
     ]
    },
    {
     "data": {
      "text/html": [
       "&nbsp;<span style='background:rgb(255,255,0);color:black'>A&nbsp;laodicean&nbsp;life&nbsp;for&nbsp;Kavya&nbsp;&&nbsp;family&nbsp;probably&nbsp;got&nbsp;Kavya&nbsp;her&nbsp;spelling&nbsp;bee&nbsp;crown!&nbsp;Congrats!&nbsp;Note,&nbsp;spell&nbsp;check&nbsp;doesnt&nbsp;recognize&nbsp;laodicean"
      ],
      "text/plain": [
       "<IPython.core.display.HTML object>"
      ]
     },
     "metadata": {},
     "output_type": "display_data"
    },
    {
     "data": {
      "text/html": [
       "<span style='background:rgb(0,0,255);color:red'>&nbsp;A&nbsp;laodicean&nbsp;life&nbsp;for&nbsp;Kavya&nbsp;&&nbsp;family&nbsp;probably&nbsp;got&nbsp;Kavya&nbsp;her&nbsp;spelling&nbsp;bee&nbsp;crown!&nbsp;Congrats!&nbsp;Note,&nbsp;spell&nbsp;check&nbsp;doesnt&nbsp;recognize&nbsp;laodicean"
      ],
      "text/plain": [
       "<IPython.core.display.HTML object>"
      ]
     },
     "metadata": {},
     "output_type": "display_data"
    },
    {
     "name": "stdout",
     "output_type": "stream",
     "text": [
      "\n",
      "[ 913 ] neutral\n"
     ]
    },
    {
     "data": {
      "text/html": [
       "&nbsp;<span style='background:rgb(255,255,0);color:black'>dont&nbsp;you&nbsp;think&nbsp;this&nbsp;tour&nbsp;went&nbsp;fast?&nbsp;i&nbsp;do"
      ],
      "text/plain": [
       "<IPython.core.display.HTML object>"
      ]
     },
     "metadata": {},
     "output_type": "display_data"
    },
    {
     "data": {
      "text/html": [
       "<span style='background:rgb(0,0,255);color:red'>&nbsp;dont&nbsp;you&nbsp;think&nbsp;this&nbsp;tour&nbsp;went&nbsp;fast?&nbsp;i&nbsp;do"
      ],
      "text/plain": [
       "<IPython.core.display.HTML object>"
      ]
     },
     "metadata": {},
     "output_type": "display_data"
    },
    {
     "name": "stdout",
     "output_type": "stream",
     "text": [
      "\n",
      "[ 2193 ] neutral\n"
     ]
    },
    {
     "data": {
      "text/html": [
       "&nbsp;<span style='background:rgb(255,255,0);color:black'>aw&nbsp;how&nbsp;to&nbsp;lose&nbsp;a&nbsp;guy&nbsp;in&nbsp;ten&nbsp;days&nbsp;<3"
      ],
      "text/plain": [
       "<IPython.core.display.HTML object>"
      ]
     },
     "metadata": {},
     "output_type": "display_data"
    },
    {
     "data": {
      "text/html": [
       "<span style='background:rgb(0,0,255);color:red'>&nbsp;aw&nbsp;how&nbsp;to&nbsp;lose&nbsp;a&nbsp;guy&nbsp;in&nbsp;ten&nbsp;days&nbsp;<3"
      ],
      "text/plain": [
       "<IPython.core.display.HTML object>"
      ]
     },
     "metadata": {},
     "output_type": "display_data"
    },
    {
     "name": "stdout",
     "output_type": "stream",
     "text": [
      "\n",
      "[ 1174 ] neutral\n"
     ]
    },
    {
     "data": {
      "text/html": [
       "&nbsp;<span style='background:rgb(255,255,0);color:black'>How&nbsp;about&nbsp;SUSE?"
      ],
      "text/plain": [
       "<IPython.core.display.HTML object>"
      ]
     },
     "metadata": {},
     "output_type": "display_data"
    },
    {
     "data": {
      "text/html": [
       "<span style='background:rgb(0,0,255);color:red'>&nbsp;How&nbsp;about&nbsp;SUSE?"
      ],
      "text/plain": [
       "<IPython.core.display.HTML object>"
      ]
     },
     "metadata": {},
     "output_type": "display_data"
    },
    {
     "name": "stdout",
     "output_type": "stream",
     "text": [
      "\n",
      "[ 883 ] neutral\n"
     ]
    },
    {
     "data": {
      "text/html": [
       "&nbsp;<span style='background:rgb(255,255,0);color:black'>Is&nbsp;it&nbsp;that&nbsp;quiet&nbsp;at&nbsp;the&nbsp;office?"
      ],
      "text/plain": [
       "<IPython.core.display.HTML object>"
      ]
     },
     "metadata": {},
     "output_type": "display_data"
    },
    {
     "data": {
      "text/html": [
       "<span style='background:rgb(0,0,255);color:red'>&nbsp;Is&nbsp;it&nbsp;that&nbsp;quiet&nbsp;at&nbsp;the&nbsp;office?"
      ],
      "text/plain": [
       "<IPython.core.display.HTML object>"
      ]
     },
     "metadata": {},
     "output_type": "display_data"
    },
    {
     "name": "stdout",
     "output_type": "stream",
     "text": [
      "\n",
      "[ 1742 ] neutral\n"
     ]
    },
    {
     "data": {
      "text/html": [
       "&nbsp;<span style='background:rgb(255,255,0);color:black'>word&nbsp;is&nbsp;marlon&nbsp;brando&nbsp;gave&nbsp;him&nbsp;25&nbsp;cent&nbsp;.&nbsp;.&nbsp;.&nbsp;yeah&nbsp;,&nbsp;tha&nbsp;GODFATHER"
      ],
      "text/plain": [
       "<IPython.core.display.HTML object>"
      ]
     },
     "metadata": {},
     "output_type": "display_data"
    },
    {
     "data": {
      "text/html": [
       "<span style='background:rgb(0,0,255);color:red'>&nbsp;word&nbsp;is&nbsp;marlon&nbsp;brando&nbsp;gave&nbsp;him&nbsp;25&nbsp;cent&nbsp;.&nbsp;.&nbsp;.&nbsp;yeah&nbsp;,&nbsp;tha&nbsp;GODFATHER"
      ],
      "text/plain": [
       "<IPython.core.display.HTML object>"
      ]
     },
     "metadata": {},
     "output_type": "display_data"
    },
    {
     "name": "stdout",
     "output_type": "stream",
     "text": [
      "\n",
      "[ 571 ] neutral\n"
     ]
    },
    {
     "data": {
      "text/html": [
       "&nbsp;<span style='background:rgb(255,255,0);color:black'>aww&nbsp;only&nbsp;15minutes&nbsp;left&nbsp;of&nbsp;family&nbsp;guy"
      ],
      "text/plain": [
       "<IPython.core.display.HTML object>"
      ]
     },
     "metadata": {},
     "output_type": "display_data"
    },
    {
     "data": {
      "text/html": [
       "<span style='background:rgb(0,0,255);color:red'>&nbsp;aww&nbsp;only&nbsp;15minutes&nbsp;left&nbsp;of&nbsp;family&nbsp;guy"
      ],
      "text/plain": [
       "<IPython.core.display.HTML object>"
      ]
     },
     "metadata": {},
     "output_type": "display_data"
    },
    {
     "name": "stdout",
     "output_type": "stream",
     "text": [
      "\n",
      "[ 710 ] neutral\n"
     ]
    },
    {
     "data": {
      "text/html": [
       "&nbsp;<span style='background:rgb(255,255,0);color:black'>lol.&nbsp;u&nbsp;got&nbsp;AC&nbsp;right?&nbsp;u&nbsp;know&nbsp;it`s&nbsp;getting&nbsp;chill&nbsp;here&nbsp;again...&nbsp;n&nbsp;its&nbsp;gona&nbsp;rain&nbsp;tmr"
      ],
      "text/plain": [
       "<IPython.core.display.HTML object>"
      ]
     },
     "metadata": {},
     "output_type": "display_data"
    },
    {
     "data": {
      "text/html": [
       "<span style='background:rgb(0,0,255);color:red'>&nbsp;lol.&nbsp;u&nbsp;got&nbsp;AC&nbsp;right?&nbsp;u&nbsp;know&nbsp;it`s&nbsp;getting&nbsp;chill&nbsp;here&nbsp;again...&nbsp;n&nbsp;its&nbsp;gona&nbsp;rain&nbsp;tmr"
      ],
      "text/plain": [
       "<IPython.core.display.HTML object>"
      ]
     },
     "metadata": {},
     "output_type": "display_data"
    },
    {
     "name": "stdout",
     "output_type": "stream",
     "text": [
      "\n",
      "[ 533 ] neutral\n"
     ]
    },
    {
     "data": {
      "text/html": [
       "&nbsp;<span style='background:rgb(255,255,0);color:black'>well&nbsp;then&nbsp;take&nbsp;your&nbsp;sexy&nbsp;****&nbsp;to&nbsp;sleep&nbsp;then&nbsp;foo.&nbsp;how&nbsp;as&nbsp;your&nbsp;weekend&nbsp;mami?"
      ],
      "text/plain": [
       "<IPython.core.display.HTML object>"
      ]
     },
     "metadata": {},
     "output_type": "display_data"
    },
    {
     "data": {
      "text/html": [
       "<span style='background:rgb(0,0,255);color:red'>&nbsp;well&nbsp;then&nbsp;take&nbsp;your&nbsp;sexy&nbsp;****&nbsp;to&nbsp;sleep&nbsp;then&nbsp;foo.&nbsp;how&nbsp;as&nbsp;your&nbsp;weekend&nbsp;mami?"
      ],
      "text/plain": [
       "<IPython.core.display.HTML object>"
      ]
     },
     "metadata": {},
     "output_type": "display_data"
    },
    {
     "name": "stdout",
     "output_type": "stream",
     "text": [
      "\n",
      "[ 569 ] neutral\n"
     ]
    },
    {
     "data": {
      "text/html": [
       "&nbsp;<span style='background:rgb(255,255,0);color:black'>i&nbsp;dont&nbsp;noe&nbsp;what&nbsp;to&nbsp;eat&nbsp;for&nbsp;breakfast&nbsp;hmmmmmmm&nbsp;im&nbsp;so&nbsp;hungry"
      ],
      "text/plain": [
       "<IPython.core.display.HTML object>"
      ]
     },
     "metadata": {},
     "output_type": "display_data"
    },
    {
     "data": {
      "text/html": [
       "<span style='background:rgb(0,0,255);color:red'>&nbsp;i&nbsp;dont&nbsp;noe&nbsp;what&nbsp;to&nbsp;eat&nbsp;for&nbsp;breakfast&nbsp;hmmmmmmm&nbsp;im&nbsp;so&nbsp;hungry"
      ],
      "text/plain": [
       "<IPython.core.display.HTML object>"
      ]
     },
     "metadata": {},
     "output_type": "display_data"
    },
    {
     "name": "stdout",
     "output_type": "stream",
     "text": [
      "\n"
     ]
    }
   ],
   "source": [
    "print('gt: Yellow 노란색!')\n",
    "print('pred: Blue 파란색!\\n')\n",
    "random.seed(datetime.now())\n",
    "\n",
    "# model_0.csv ~ model_4.csv 중에 random 으로 결과를 보여주기\n",
    "for i in range(5):\n",
    "    print('[model_'+str(i)+'.csv]')\n",
    "    \n",
    "    df = pd.read_csv('./model_'+str(i)+'.csv')\n",
    "    # neutral, positive, negative 중에 원하는 감정의 결과만 볼 수 있게 설정 가능\n",
    "    df = df[df['sentiment']=='neutral']\n",
    "    \n",
    "    #임의로 각 파일 별 20개의 결과를 선정\n",
    "    seeds = random.sample(range(len(df)),20)\n",
    "    \n",
    "    for idx in seeds:\n",
    "        print('[',idx,']',df.iloc[idx]['sentiment'])\n",
    "        org = df.iloc[idx]['org_tweet']\n",
    "        pred = df.iloc[idx]['pred_sent']\n",
    "        gt = df.iloc[idx]['gt']\n",
    "        if gt[0] == \" \":\n",
    "            gt = gt[1:]        \n",
    "        idx_pred = [org.find(pred),org.find(pred)+len(pred)]\n",
    "        idx_gt = [org.find(gt),org.find(gt)+len(gt)]\n",
    "        gt_tweet, pred_tweet = visualize_text_segment(org,idx_gt,idx_pred)\n",
    "        display(gt_tweet)\n",
    "        display(pred_tweet)\n",
    "        print()"
   ]
  },
  {
   "cell_type": "code",
   "execution_count": null,
   "metadata": {},
   "outputs": [],
   "source": []
  }
 ],
 "metadata": {
  "kernelspec": {
   "display_name": "Python 3",
   "language": "python",
   "name": "python3"
  },
  "language_info": {
   "codemirror_mode": {
    "name": "ipython",
    "version": 3
   },
   "file_extension": ".py",
   "mimetype": "text/x-python",
   "name": "python",
   "nbconvert_exporter": "python",
   "pygments_lexer": "ipython3",
   "version": "3.7.2"
  }
 },
 "nbformat": 4,
 "nbformat_minor": 4
}

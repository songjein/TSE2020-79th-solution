{
 "cells": [
  {
   "cell_type": "markdown",
   "metadata": {},
   "source": [
    "# Sentiment 140 데이터를 필터링 합니다.\n",
    "- 민우형이 감정 태깅 해놓으신 것을 기반으로\n",
    "- 각 감정에 대해 컨피던스가 높은 것들을 거른 뒤\n",
    "- textblob라이브러리를 이용해, 감정 스코어를 얻어 한번 더 걸러서 확실한 감정만 이용"
   ]
  },
  {
   "cell_type": "code",
   "execution_count": 154,
   "metadata": {},
   "outputs": [],
   "source": [
    "import re\n",
    "import time\n",
    "import random\n",
    "import datetime\n",
    "\n",
    "import html\n",
    "\n",
    "import numpy as np \n",
    "import pandas as pd\n",
    "import matplotlib.pyplot as plt\n",
    "import seaborn as sns\n",
    "\n",
    "sns.set()\n",
    "\n",
    "from textblob import TextBlob"
   ]
  },
  {
   "cell_type": "code",
   "execution_count": 44,
   "metadata": {},
   "outputs": [],
   "source": [
    "def get_sent(text):\n",
    "    testimonial = TextBlob(str(text))\n",
    "    return testimonial.sentiment.polarity"
   ]
  },
  {
   "cell_type": "code",
   "execution_count": 37,
   "metadata": {},
   "outputs": [],
   "source": [
    "train_df = pd.read_csv('/DATA/image-search/kgg/input/train.csv')"
   ]
  },
  {
   "cell_type": "code",
   "execution_count": 68,
   "metadata": {},
   "outputs": [
    {
     "data": {
      "text/plain": [
       "Index(['textID', 'text', 'selected_text', 'sentiment'], dtype='object')"
      ]
     },
     "execution_count": 68,
     "metadata": {},
     "output_type": "execute_result"
    }
   ],
   "source": [
    "train_df.columns"
   ]
  },
  {
   "cell_type": "markdown",
   "metadata": {},
   "source": [
    "## Original 데이터 감정 라벨 분포"
   ]
  },
  {
   "cell_type": "code",
   "execution_count": 39,
   "metadata": {},
   "outputs": [
    {
     "data": {
      "text/plain": [
       "neutral     11118\n",
       "positive     8582\n",
       "negative     7781\n",
       "Name: sentiment, dtype: int64"
      ]
     },
     "execution_count": 39,
     "metadata": {},
     "output_type": "execute_result"
    }
   ],
   "source": [
    "train_df.sentiment.value_counts()"
   ]
  },
  {
   "cell_type": "code",
   "execution_count": 169,
   "metadata": {},
   "outputs": [
    {
     "data": {
      "text/plain": [
       "(1.3, 1.1)"
      ]
     },
     "execution_count": 169,
     "metadata": {},
     "output_type": "execute_result"
    }
   ],
   "source": [
    "round(11118/8582, 2), round(8582/7781,2)"
   ]
  },
  {
   "cell_type": "markdown",
   "metadata": {},
   "source": [
    "## Text Len Dist."
   ]
  },
  {
   "cell_type": "code",
   "execution_count": 172,
   "metadata": {},
   "outputs": [
    {
     "data": {
      "text/plain": [
       "(array([2960., 4414., 4463., 3836., 3291., 3685., 2419., 1688.,  627.,\n",
       "          97.]),\n",
       " array([ 1. ,  4.2,  7.4, 10.6, 13.8, 17. , 20.2, 23.4, 26.6, 29.8, 33. ]),\n",
       " <a list of 10 Patch objects>)"
      ]
     },
     "execution_count": 172,
     "metadata": {},
     "output_type": "execute_result"
    },
    {
     "data": {
      "image/png": "[encoded data removed]",
      "text/plain": [
       "<Figure size 432x288 with 1 Axes>"
      ]
     },
     "metadata": {},
     "output_type": "display_data"
    }
   ],
   "source": [
    "lens = []\n",
    "for text in train_df[.text:\n",
    "    if type(text) != str:\n",
    "        continue\n",
    "    lens.append(len(text.split()))\n",
    "plt.hist(lens)"
   ]
  },
  {
   "cell_type": "markdown",
   "metadata": {},
   "source": [
    "## Selected Text Len Dists."
   ]
  },
  {
   "cell_type": "code",
   "execution_count": 176,
   "metadata": {},
   "outputs": [
    {
     "data": {
      "text/plain": [
       "33"
      ]
     },
     "execution_count": 176,
     "metadata": {},
     "output_type": "execute_result"
    },
    {
     "data": {
      "image/png": "[encoded data removed]",
      "text/plain": [
       "<Figure size 432x288 with 1 Axes>"
      ]
     },
     "metadata": {},
     "output_type": "display_data"
    }
   ],
   "source": [
    "s_lens = []\n",
    "for text in train_df.selected_text:\n",
    "    if type(text) != str:\n",
    "        continue\n",
    "    s_lens.append(len(text.split()))\n",
    "plt.hist(s_lens)\n",
    "max(s_lens)"
   ]
  },
  {
   "cell_type": "code",
   "execution_count": 187,
   "metadata": {},
   "outputs": [],
   "source": [
    "df = pd.read_csv('aug-output42.csv')\n",
    "df = df.drop(columns=['date', 'query', 'user', 'original_text', 'contains_mention'])\n",
    "df = df.drop_duplicates(['text'], keep='first').reset_index(drop=True)"
   ]
  },
  {
   "cell_type": "markdown",
   "metadata": {},
   "source": [
    "## 길이 분포를 맞춰주기 위한 처리\n",
    "- 33개 이상인 경우 제외"
   ]
  },
  {
   "cell_type": "code",
   "execution_count": 182,
   "metadata": {},
   "outputs": [],
   "source": [
    "df['len_words'] = df.apply(lambda row: len(row.text.split()) <= 33, axis=1)"
   ]
  },
  {
   "cell_type": "code",
   "execution_count": 185,
   "metadata": {},
   "outputs": [],
   "source": [
    "df = df[df.len_words == True]"
   ]
  },
  {
   "cell_type": "code",
   "execution_count": 184,
   "metadata": {},
   "outputs": [
    {
     "data": {
      "text/plain": [
       "(array([ 69918., 130139., 129728., 111162.,  90700.,  95487.,  60561.,\n",
       "         48726.,  21379.,   3653.]),\n",
       " array([ 1. ,  4.2,  7.4, 10.6, 13.8, 17. , 20.2, 23.4, 26.6, 29.8, 33. ]),\n",
       " <a list of 10 Patch objects>)"
      ]
     },
     "execution_count": 184,
     "metadata": {},
     "output_type": "execute_result"
    },
    {
     "data": {
      "image/png": "[encoded data removed]",
      "text/plain": [
       "<Figure size 432x288 with 1 Axes>"
      ]
     },
     "metadata": {},
     "output_type": "display_data"
    }
   ],
   "source": [
    "lens = []\n",
    "for text in df.text:\n",
    "    lens.append(len(text.split()))\n",
    "plt.hist(lens)"
   ]
  },
  {
   "cell_type": "markdown",
   "metadata": {},
   "source": [
    "예를들면 positive라고 분류한경우 0.97 이상일때만 선택\n",
    "neg는 0.938 이상일 때 선택\n",
    "neu는 0.91 이상일때 선택"
   ]
  },
  {
   "cell_type": "markdown",
   "metadata": {},
   "source": [
    "## Sample Data "
   ]
  },
  {
   "cell_type": "code",
   "execution_count": 215,
   "metadata": {},
   "outputs": [],
   "source": [
    "textID = []\n",
    "text = []\n",
    "selected_text = []\n",
    "sentiment = []"
   ]
  },
  {
   "cell_type": "markdown",
   "metadata": {},
   "source": [
    "# 긍정 데이터"
   ]
  },
  {
   "cell_type": "code",
   "execution_count": 216,
   "metadata": {},
   "outputs": [
    {
     "data": {
      "text/html": [
       "<div>\n",
       "<style scoped>\n",
       "    .dataframe tbody tr th:only-of-type {\n",
       "        vertical-align: middle;\n",
       "    }\n",
       "\n",
       "    .dataframe tbody tr th {\n",
       "        vertical-align: top;\n",
       "    }\n",
       "\n",
       "    .dataframe thead th {\n",
       "        text-align: right;\n",
       "    }\n",
       "</style>\n",
       "<table border=\"1\" class=\"dataframe\">\n",
       "  <thead>\n",
       "    <tr style=\"text-align: right;\">\n",
       "      <th></th>\n",
       "      <th>polarity</th>\n",
       "      <th>id</th>\n",
       "      <th>text</th>\n",
       "      <th>sentiment</th>\n",
       "      <th>pred_sentiment</th>\n",
       "      <th>pred_pos</th>\n",
       "      <th>pred_neg</th>\n",
       "      <th>pred_neu</th>\n",
       "    </tr>\n",
       "  </thead>\n",
       "  <tbody>\n",
       "    <tr>\n",
       "      <th>70</th>\n",
       "      <td>0</td>\n",
       "      <td>1467844097</td>\n",
       "      <td>Going to sleep. Hoping tomorrow is a better day.</td>\n",
       "      <td>negative</td>\n",
       "      <td>positive</td>\n",
       "      <td>0.970582</td>\n",
       "      <td>0.006714</td>\n",
       "      <td>0.022705</td>\n",
       "    </tr>\n",
       "    <tr>\n",
       "      <th>248</th>\n",
       "      <td>0</td>\n",
       "      <td>1467931983</td>\n",
       "      <td>This is the best leather sofa in the world!  I...</td>\n",
       "      <td>negative</td>\n",
       "      <td>positive</td>\n",
       "      <td>0.971224</td>\n",
       "      <td>0.006827</td>\n",
       "      <td>0.021949</td>\n",
       "    </tr>\n",
       "    <tr>\n",
       "      <th>295</th>\n",
       "      <td>0</td>\n",
       "      <td>1467951238</td>\n",
       "      <td>fuck omg  austins always there though man &amp;lt;...</td>\n",
       "      <td>negative</td>\n",
       "      <td>positive</td>\n",
       "      <td>0.970186</td>\n",
       "      <td>0.007101</td>\n",
       "      <td>0.022713</td>\n",
       "    </tr>\n",
       "    <tr>\n",
       "      <th>440</th>\n",
       "      <td>0</td>\n",
       "      <td>1468017259</td>\n",
       "      <td>aaaaand back to my literature review  At least...</td>\n",
       "      <td>negative</td>\n",
       "      <td>positive</td>\n",
       "      <td>0.970152</td>\n",
       "      <td>0.006658</td>\n",
       "      <td>0.023190</td>\n",
       "    </tr>\n",
       "    <tr>\n",
       "      <th>464</th>\n",
       "      <td>0</td>\n",
       "      <td>1468030831</td>\n",
       "      <td>good morning everybody! pkoi y fais pas beau  ...</td>\n",
       "      <td>negative</td>\n",
       "      <td>positive</td>\n",
       "      <td>0.970626</td>\n",
       "      <td>0.006981</td>\n",
       "      <td>0.022393</td>\n",
       "    </tr>\n",
       "    <tr>\n",
       "      <th>...</th>\n",
       "      <td>...</td>\n",
       "      <td>...</td>\n",
       "      <td>...</td>\n",
       "      <td>...</td>\n",
       "      <td>...</td>\n",
       "      <td>...</td>\n",
       "      <td>...</td>\n",
       "      <td>...</td>\n",
       "    </tr>\n",
       "    <tr>\n",
       "      <th>761499</th>\n",
       "      <td>4</td>\n",
       "      <td>2193575236</td>\n",
       "      <td>my cluster is back and I'm a happy man</td>\n",
       "      <td>positive</td>\n",
       "      <td>positive</td>\n",
       "      <td>0.970664</td>\n",
       "      <td>0.007519</td>\n",
       "      <td>0.021817</td>\n",
       "    </tr>\n",
       "    <tr>\n",
       "      <th>761506</th>\n",
       "      <td>4</td>\n",
       "      <td>2193575912</td>\n",
       "      <td>I just switched back to Opera (using the moi s...</td>\n",
       "      <td>positive</td>\n",
       "      <td>positive</td>\n",
       "      <td>0.970503</td>\n",
       "      <td>0.006891</td>\n",
       "      <td>0.022606</td>\n",
       "    </tr>\n",
       "    <tr>\n",
       "      <th>761519</th>\n",
       "      <td>4</td>\n",
       "      <td>2193577391</td>\n",
       "      <td>OMG how good is ben and jerrys cookie dough ic...</td>\n",
       "      <td>positive</td>\n",
       "      <td>positive</td>\n",
       "      <td>0.970432</td>\n",
       "      <td>0.006862</td>\n",
       "      <td>0.022706</td>\n",
       "    </tr>\n",
       "    <tr>\n",
       "      <th>761520</th>\n",
       "      <td>4</td>\n",
       "      <td>2193577517</td>\n",
       "      <td>oooo haha just waking up and ready to eat a de...</td>\n",
       "      <td>positive</td>\n",
       "      <td>positive</td>\n",
       "      <td>0.970896</td>\n",
       "      <td>0.006730</td>\n",
       "      <td>0.022374</td>\n",
       "    </tr>\n",
       "    <tr>\n",
       "      <th>761526</th>\n",
       "      <td>4</td>\n",
       "      <td>2193578151</td>\n",
       "      <td>done la examen! easy peasy  so proud of myself!!</td>\n",
       "      <td>positive</td>\n",
       "      <td>positive</td>\n",
       "      <td>0.970598</td>\n",
       "      <td>0.007409</td>\n",
       "      <td>0.021993</td>\n",
       "    </tr>\n",
       "  </tbody>\n",
       "</table>\n",
       "<p>61542 rows × 8 columns</p>\n",
       "</div>"
      ],
      "text/plain": [
       "        polarity          id  \\\n",
       "70             0  1467844097   \n",
       "248            0  1467931983   \n",
       "295            0  1467951238   \n",
       "440            0  1468017259   \n",
       "464            0  1468030831   \n",
       "...          ...         ...   \n",
       "761499         4  2193575236   \n",
       "761506         4  2193575912   \n",
       "761519         4  2193577391   \n",
       "761520         4  2193577517   \n",
       "761526         4  2193578151   \n",
       "\n",
       "                                                     text sentiment  \\\n",
       "70       Going to sleep. Hoping tomorrow is a better day.  negative   \n",
       "248     This is the best leather sofa in the world!  I...  negative   \n",
       "295     fuck omg  austins always there though man &lt;...  negative   \n",
       "440     aaaaand back to my literature review  At least...  negative   \n",
       "464     good morning everybody! pkoi y fais pas beau  ...  negative   \n",
       "...                                                   ...       ...   \n",
       "761499             my cluster is back and I'm a happy man  positive   \n",
       "761506  I just switched back to Opera (using the moi s...  positive   \n",
       "761519  OMG how good is ben and jerrys cookie dough ic...  positive   \n",
       "761520  oooo haha just waking up and ready to eat a de...  positive   \n",
       "761526   done la examen! easy peasy  so proud of myself!!  positive   \n",
       "\n",
       "       pred_sentiment  pred_pos  pred_neg  pred_neu  \n",
       "70           positive  0.970582  0.006714  0.022705  \n",
       "248          positive  0.971224  0.006827  0.021949  \n",
       "295          positive  0.970186  0.007101  0.022713  \n",
       "440          positive  0.970152  0.006658  0.023190  \n",
       "464          positive  0.970626  0.006981  0.022393  \n",
       "...               ...       ...       ...       ...  \n",
       "761499       positive  0.970664  0.007519  0.021817  \n",
       "761506       positive  0.970503  0.006891  0.022606  \n",
       "761519       positive  0.970432  0.006862  0.022706  \n",
       "761520       positive  0.970896  0.006730  0.022374  \n",
       "761526       positive  0.970598  0.007409  0.021993  \n",
       "\n",
       "[61542 rows x 8 columns]"
      ]
     },
     "execution_count": 216,
     "metadata": {},
     "output_type": "execute_result"
    }
   ],
   "source": [
    "pos_df = df[df.pred_pos > 0.97]\n",
    "pos_df"
   ]
  },
  {
   "cell_type": "markdown",
   "metadata": {},
   "source": [
    "## 감정 스코어로 거르기 (긍정)"
   ]
  },
  {
   "cell_type": "code",
   "execution_count": 217,
   "metadata": {},
   "outputs": [
    {
     "data": {
      "text/plain": [
       "11809"
      ]
     },
     "execution_count": 217,
     "metadata": {},
     "output_type": "execute_result"
    }
   ],
   "source": [
    "scores = []\n",
    "for idx in pos_df.index:\n",
    "    row = pos_df.loc[idx]\n",
    "    score = get_sent(row.text)\n",
    "    if score > 0.75:\n",
    "        _text = html.unescape(row.text)\n",
    "        textID.append(row.id)\n",
    "        text.append(_text)\n",
    "        selected_text.append(_text)\n",
    "        sentiment.append('positive')\n",
    "        scores.append(score)\n",
    "len(scores)"
   ]
  },
  {
   "cell_type": "markdown",
   "metadata": {},
   "source": [
    "# 부정 데이터"
   ]
  },
  {
   "cell_type": "code",
   "execution_count": 218,
   "metadata": {},
   "outputs": [
    {
     "data": {
      "text/html": [
       "<div>\n",
       "<style scoped>\n",
       "    .dataframe tbody tr th:only-of-type {\n",
       "        vertical-align: middle;\n",
       "    }\n",
       "\n",
       "    .dataframe tbody tr th {\n",
       "        vertical-align: top;\n",
       "    }\n",
       "\n",
       "    .dataframe thead th {\n",
       "        text-align: right;\n",
       "    }\n",
       "</style>\n",
       "<table border=\"1\" class=\"dataframe\">\n",
       "  <thead>\n",
       "    <tr style=\"text-align: right;\">\n",
       "      <th></th>\n",
       "      <th>polarity</th>\n",
       "      <th>id</th>\n",
       "      <th>text</th>\n",
       "      <th>sentiment</th>\n",
       "      <th>pred_sentiment</th>\n",
       "      <th>pred_pos</th>\n",
       "      <th>pred_neg</th>\n",
       "      <th>pred_neu</th>\n",
       "    </tr>\n",
       "  </thead>\n",
       "  <tbody>\n",
       "    <tr>\n",
       "      <th>0</th>\n",
       "      <td>0</td>\n",
       "      <td>1467810672</td>\n",
       "      <td>is upset that he can't update his Facebook by ...</td>\n",
       "      <td>negative</td>\n",
       "      <td>negative</td>\n",
       "      <td>0.010985</td>\n",
       "      <td>0.941682</td>\n",
       "      <td>0.047333</td>\n",
       "    </tr>\n",
       "    <tr>\n",
       "      <th>1</th>\n",
       "      <td>0</td>\n",
       "      <td>1467811184</td>\n",
       "      <td>my whole body feels itchy and like its on fire</td>\n",
       "      <td>negative</td>\n",
       "      <td>negative</td>\n",
       "      <td>0.011899</td>\n",
       "      <td>0.940294</td>\n",
       "      <td>0.047807</td>\n",
       "    </tr>\n",
       "    <tr>\n",
       "      <th>4</th>\n",
       "      <td>0</td>\n",
       "      <td>1467812964</td>\n",
       "      <td>Hollis' death scene will hurt me severely to w...</td>\n",
       "      <td>negative</td>\n",
       "      <td>negative</td>\n",
       "      <td>0.010454</td>\n",
       "      <td>0.941794</td>\n",
       "      <td>0.047751</td>\n",
       "    </tr>\n",
       "    <tr>\n",
       "      <th>9</th>\n",
       "      <td>0</td>\n",
       "      <td>1467814438</td>\n",
       "      <td>I hate when I have to call and wake people up</td>\n",
       "      <td>negative</td>\n",
       "      <td>negative</td>\n",
       "      <td>0.011467</td>\n",
       "      <td>0.941426</td>\n",
       "      <td>0.047106</td>\n",
       "    </tr>\n",
       "    <tr>\n",
       "      <th>12</th>\n",
       "      <td>0</td>\n",
       "      <td>1467815753</td>\n",
       "      <td>Meh... Almost Lover is the exception... this t...</td>\n",
       "      <td>negative</td>\n",
       "      <td>negative</td>\n",
       "      <td>0.010011</td>\n",
       "      <td>0.942419</td>\n",
       "      <td>0.047570</td>\n",
       "    </tr>\n",
       "    <tr>\n",
       "      <th>...</th>\n",
       "      <td>...</td>\n",
       "      <td>...</td>\n",
       "      <td>...</td>\n",
       "      <td>...</td>\n",
       "      <td>...</td>\n",
       "      <td>...</td>\n",
       "      <td>...</td>\n",
       "      <td>...</td>\n",
       "    </tr>\n",
       "    <tr>\n",
       "      <th>761338</th>\n",
       "      <td>4</td>\n",
       "      <td>2193453641</td>\n",
       "      <td>just watched twilight...it was horrible...now ...</td>\n",
       "      <td>positive</td>\n",
       "      <td>negative</td>\n",
       "      <td>0.010715</td>\n",
       "      <td>0.942048</td>\n",
       "      <td>0.047237</td>\n",
       "    </tr>\n",
       "    <tr>\n",
       "      <th>761395</th>\n",
       "      <td>4</td>\n",
       "      <td>2193502127</td>\n",
       "      <td>tired... it's raining outside my window  *sigh*</td>\n",
       "      <td>positive</td>\n",
       "      <td>negative</td>\n",
       "      <td>0.011658</td>\n",
       "      <td>0.939737</td>\n",
       "      <td>0.048606</td>\n",
       "    </tr>\n",
       "    <tr>\n",
       "      <th>761436</th>\n",
       "      <td>4</td>\n",
       "      <td>2193526951</td>\n",
       "      <td>#digitalbritain on page 11 and bored already.....</td>\n",
       "      <td>positive</td>\n",
       "      <td>negative</td>\n",
       "      <td>0.008426</td>\n",
       "      <td>0.939063</td>\n",
       "      <td>0.052511</td>\n",
       "    </tr>\n",
       "    <tr>\n",
       "      <th>761508</th>\n",
       "      <td>4</td>\n",
       "      <td>2193575988</td>\n",
       "      <td>Bloody knackered! And still got two hours to g...</td>\n",
       "      <td>positive</td>\n",
       "      <td>negative</td>\n",
       "      <td>0.010050</td>\n",
       "      <td>0.940772</td>\n",
       "      <td>0.049178</td>\n",
       "    </tr>\n",
       "    <tr>\n",
       "      <th>761510</th>\n",
       "      <td>4</td>\n",
       "      <td>2193576360</td>\n",
       "      <td>dropping molly off getting ice cream with Aaro...</td>\n",
       "      <td>positive</td>\n",
       "      <td>negative</td>\n",
       "      <td>0.009562</td>\n",
       "      <td>0.941163</td>\n",
       "      <td>0.049275</td>\n",
       "    </tr>\n",
       "  </tbody>\n",
       "</table>\n",
       "<p>133854 rows × 8 columns</p>\n",
       "</div>"
      ],
      "text/plain": [
       "        polarity          id  \\\n",
       "0              0  1467810672   \n",
       "1              0  1467811184   \n",
       "4              0  1467812964   \n",
       "9              0  1467814438   \n",
       "12             0  1467815753   \n",
       "...          ...         ...   \n",
       "761338         4  2193453641   \n",
       "761395         4  2193502127   \n",
       "761436         4  2193526951   \n",
       "761508         4  2193575988   \n",
       "761510         4  2193576360   \n",
       "\n",
       "                                                     text sentiment  \\\n",
       "0       is upset that he can't update his Facebook by ...  negative   \n",
       "1          my whole body feels itchy and like its on fire  negative   \n",
       "4       Hollis' death scene will hurt me severely to w...  negative   \n",
       "9           I hate when I have to call and wake people up  negative   \n",
       "12      Meh... Almost Lover is the exception... this t...  negative   \n",
       "...                                                   ...       ...   \n",
       "761338  just watched twilight...it was horrible...now ...  positive   \n",
       "761395    tired... it's raining outside my window  *sigh*  positive   \n",
       "761436  #digitalbritain on page 11 and bored already.....  positive   \n",
       "761508  Bloody knackered! And still got two hours to g...  positive   \n",
       "761510  dropping molly off getting ice cream with Aaro...  positive   \n",
       "\n",
       "       pred_sentiment  pred_pos  pred_neg  pred_neu  \n",
       "0            negative  0.010985  0.941682  0.047333  \n",
       "1            negative  0.011899  0.940294  0.047807  \n",
       "4            negative  0.010454  0.941794  0.047751  \n",
       "9            negative  0.011467  0.941426  0.047106  \n",
       "12           negative  0.010011  0.942419  0.047570  \n",
       "...               ...       ...       ...       ...  \n",
       "761338       negative  0.010715  0.942048  0.047237  \n",
       "761395       negative  0.011658  0.939737  0.048606  \n",
       "761436       negative  0.008426  0.939063  0.052511  \n",
       "761508       negative  0.010050  0.940772  0.049178  \n",
       "761510       negative  0.009562  0.941163  0.049275  \n",
       "\n",
       "[133854 rows x 8 columns]"
      ]
     },
     "execution_count": 218,
     "metadata": {},
     "output_type": "execute_result"
    }
   ],
   "source": [
    "neg_df = df[df.pred_neg > 0.938]\n",
    "neg_df"
   ]
  },
  {
   "cell_type": "markdown",
   "metadata": {},
   "source": [
    "## 감정 스코어로 거르기 (부정)"
   ]
  },
  {
   "cell_type": "code",
   "execution_count": 219,
   "metadata": {},
   "outputs": [
    {
     "data": {
      "text/plain": [
       "12236"
      ]
     },
     "execution_count": 219,
     "metadata": {},
     "output_type": "execute_result"
    }
   ],
   "source": [
    "scores = []\n",
    "for idx, _ in enumerate(neg_df.text):\n",
    "    row = neg_df.iloc[idx]\n",
    "    score = get_sent(row.text)\n",
    "    if score < -0.72:\n",
    "        _text = html.unescape(row.text)\n",
    "        textID.append(row.id)\n",
    "        text.append(_text)\n",
    "        selected_text.append(_text)\n",
    "        sentiment.append('negative')\n",
    "        scores.append(score)\n",
    "len(scores)"
   ]
  },
  {
   "cell_type": "markdown",
   "metadata": {},
   "source": [
    "## 뉴트럴 데이터"
   ]
  },
  {
   "cell_type": "code",
   "execution_count": 220,
   "metadata": {},
   "outputs": [
    {
     "data": {
      "text/html": [
       "<div>\n",
       "<style scoped>\n",
       "    .dataframe tbody tr th:only-of-type {\n",
       "        vertical-align: middle;\n",
       "    }\n",
       "\n",
       "    .dataframe tbody tr th {\n",
       "        vertical-align: top;\n",
       "    }\n",
       "\n",
       "    .dataframe thead th {\n",
       "        text-align: right;\n",
       "    }\n",
       "</style>\n",
       "<table border=\"1\" class=\"dataframe\">\n",
       "  <thead>\n",
       "    <tr style=\"text-align: right;\">\n",
       "      <th></th>\n",
       "      <th>polarity</th>\n",
       "      <th>id</th>\n",
       "      <th>text</th>\n",
       "      <th>sentiment</th>\n",
       "      <th>pred_sentiment</th>\n",
       "      <th>pred_pos</th>\n",
       "      <th>pred_neg</th>\n",
       "      <th>pred_neu</th>\n",
       "    </tr>\n",
       "  </thead>\n",
       "  <tbody>\n",
       "    <tr>\n",
       "      <th>5</th>\n",
       "      <td>0</td>\n",
       "      <td>1467813137</td>\n",
       "      <td>about to file taxes</td>\n",
       "      <td>negative</td>\n",
       "      <td>neutral</td>\n",
       "      <td>0.026866</td>\n",
       "      <td>0.029800</td>\n",
       "      <td>0.943334</td>\n",
       "    </tr>\n",
       "    <tr>\n",
       "      <th>8</th>\n",
       "      <td>0</td>\n",
       "      <td>1467814192</td>\n",
       "      <td>blagh class at 8 tomorrow</td>\n",
       "      <td>negative</td>\n",
       "      <td>neutral</td>\n",
       "      <td>0.033804</td>\n",
       "      <td>0.027409</td>\n",
       "      <td>0.938787</td>\n",
       "    </tr>\n",
       "    <tr>\n",
       "      <th>20</th>\n",
       "      <td>0</td>\n",
       "      <td>1467819712</td>\n",
       "      <td>Just checked my user timeline on my blackberry...</td>\n",
       "      <td>negative</td>\n",
       "      <td>neutral</td>\n",
       "      <td>0.029914</td>\n",
       "      <td>0.041417</td>\n",
       "      <td>0.928670</td>\n",
       "    </tr>\n",
       "    <tr>\n",
       "      <th>27</th>\n",
       "      <td>0</td>\n",
       "      <td>1467822918</td>\n",
       "      <td>just leaving the parking lot of work!</td>\n",
       "      <td>negative</td>\n",
       "      <td>neutral</td>\n",
       "      <td>0.021843</td>\n",
       "      <td>0.046810</td>\n",
       "      <td>0.931347</td>\n",
       "    </tr>\n",
       "    <tr>\n",
       "      <th>35</th>\n",
       "      <td>0</td>\n",
       "      <td>1467826052</td>\n",
       "      <td>Why won't you show my location?!   http://twit...</td>\n",
       "      <td>negative</td>\n",
       "      <td>neutral</td>\n",
       "      <td>0.022640</td>\n",
       "      <td>0.042167</td>\n",
       "      <td>0.935194</td>\n",
       "    </tr>\n",
       "    <tr>\n",
       "      <th>...</th>\n",
       "      <td>...</td>\n",
       "      <td>...</td>\n",
       "      <td>...</td>\n",
       "      <td>...</td>\n",
       "      <td>...</td>\n",
       "      <td>...</td>\n",
       "      <td>...</td>\n",
       "      <td>...</td>\n",
       "    </tr>\n",
       "    <tr>\n",
       "      <th>761518</th>\n",
       "      <td>4</td>\n",
       "      <td>2193577328</td>\n",
       "      <td>finding out what this is.</td>\n",
       "      <td>positive</td>\n",
       "      <td>neutral</td>\n",
       "      <td>0.041587</td>\n",
       "      <td>0.024415</td>\n",
       "      <td>0.933999</td>\n",
       "    </tr>\n",
       "    <tr>\n",
       "      <th>761521</th>\n",
       "      <td>4</td>\n",
       "      <td>2193577592</td>\n",
       "      <td>any ideaZ on what to get dad for father's day ...</td>\n",
       "      <td>positive</td>\n",
       "      <td>neutral</td>\n",
       "      <td>0.024859</td>\n",
       "      <td>0.040425</td>\n",
       "      <td>0.934716</td>\n",
       "    </tr>\n",
       "    <tr>\n",
       "      <th>761525</th>\n",
       "      <td>4</td>\n",
       "      <td>2193578138</td>\n",
       "      <td>checking my mail</td>\n",
       "      <td>positive</td>\n",
       "      <td>neutral</td>\n",
       "      <td>0.026137</td>\n",
       "      <td>0.029986</td>\n",
       "      <td>0.943877</td>\n",
       "    </tr>\n",
       "    <tr>\n",
       "      <th>761528</th>\n",
       "      <td>4</td>\n",
       "      <td>2193578576</td>\n",
       "      <td>In the garden</td>\n",
       "      <td>positive</td>\n",
       "      <td>neutral</td>\n",
       "      <td>0.034174</td>\n",
       "      <td>0.025917</td>\n",
       "      <td>0.939909</td>\n",
       "    </tr>\n",
       "    <tr>\n",
       "      <th>761536</th>\n",
       "      <td>4</td>\n",
       "      <td>2193601991</td>\n",
       "      <td>Are you ready for your MoJo Makeover? Ask me f...</td>\n",
       "      <td>positive</td>\n",
       "      <td>neutral</td>\n",
       "      <td>0.039861</td>\n",
       "      <td>0.024815</td>\n",
       "      <td>0.935324</td>\n",
       "    </tr>\n",
       "  </tbody>\n",
       "</table>\n",
       "<p>91760 rows × 8 columns</p>\n",
       "</div>"
      ],
      "text/plain": [
       "        polarity          id  \\\n",
       "5              0  1467813137   \n",
       "8              0  1467814192   \n",
       "20             0  1467819712   \n",
       "27             0  1467822918   \n",
       "35             0  1467826052   \n",
       "...          ...         ...   \n",
       "761518         4  2193577328   \n",
       "761521         4  2193577592   \n",
       "761525         4  2193578138   \n",
       "761528         4  2193578576   \n",
       "761536         4  2193601991   \n",
       "\n",
       "                                                     text sentiment  \\\n",
       "5                                     about to file taxes  negative   \n",
       "8                               blagh class at 8 tomorrow  negative   \n",
       "20      Just checked my user timeline on my blackberry...  negative   \n",
       "27                  just leaving the parking lot of work!  negative   \n",
       "35      Why won't you show my location?!   http://twit...  negative   \n",
       "...                                                   ...       ...   \n",
       "761518                          finding out what this is.  positive   \n",
       "761521  any ideaZ on what to get dad for father's day ...  positive   \n",
       "761525                                   checking my mail  positive   \n",
       "761528                                      In the garden  positive   \n",
       "761536  Are you ready for your MoJo Makeover? Ask me f...  positive   \n",
       "\n",
       "       pred_sentiment  pred_pos  pred_neg  pred_neu  \n",
       "5             neutral  0.026866  0.029800  0.943334  \n",
       "8             neutral  0.033804  0.027409  0.938787  \n",
       "20            neutral  0.029914  0.041417  0.928670  \n",
       "27            neutral  0.021843  0.046810  0.931347  \n",
       "35            neutral  0.022640  0.042167  0.935194  \n",
       "...               ...       ...       ...       ...  \n",
       "761518        neutral  0.041587  0.024415  0.933999  \n",
       "761521        neutral  0.024859  0.040425  0.934716  \n",
       "761525        neutral  0.026137  0.029986  0.943877  \n",
       "761528        neutral  0.034174  0.025917  0.939909  \n",
       "761536        neutral  0.039861  0.024815  0.935324  \n",
       "\n",
       "[91760 rows x 8 columns]"
      ]
     },
     "execution_count": 220,
     "metadata": {},
     "output_type": "execute_result"
    }
   ],
   "source": [
    "neu_df = df[df.pred_neu > 0.91]\n",
    "neu_df"
   ]
  },
  {
   "cell_type": "code",
   "execution_count": 221,
   "metadata": {},
   "outputs": [],
   "source": [
    "neu_df = neu_df.sample(n=20000, random_state=42)"
   ]
  },
  {
   "cell_type": "code",
   "execution_count": 222,
   "metadata": {},
   "outputs": [
    {
     "data": {
      "text/plain": [
       "15446"
      ]
     },
     "execution_count": 222,
     "metadata": {},
     "output_type": "execute_result"
    }
   ],
   "source": [
    "scores = []\n",
    "for idx, _ in enumerate(neu_df.text):\n",
    "    row = neu_df.iloc[idx]\n",
    "    score = get_sent(row.text)\n",
    "    if -0.05 < score < 0.05:\n",
    "        _text = html.unescape(row.text)\n",
    "        scores.append(score)\n",
    "        textID.append(row.id)\n",
    "        text.append(_text)\n",
    "        selected_text.append(_text)\n",
    "        sentiment.append('neutral')\n",
    "len(scores)"
   ]
  },
  {
   "cell_type": "markdown",
   "metadata": {},
   "source": [
    "## 길이 분포가 살짝 다르다 ㅠㅠ"
   ]
  },
  {
   "cell_type": "code",
   "execution_count": 223,
   "metadata": {},
   "outputs": [
    {
     "data": {
      "text/plain": [
       "(array([6058., 9554., 8592., 7403., 3189., 2103., 1676.,  695.,  189.,\n",
       "          32.]),\n",
       " array([ 1. ,  4.3,  7.6, 10.9, 14.2, 17.5, 20.8, 24.1, 27.4, 30.7, 34. ]),\n",
       " <a list of 10 Patch objects>)"
      ]
     },
     "execution_count": 223,
     "metadata": {},
     "output_type": "execute_result"
    },
    {
     "data": {
      "image/png": "[encoded data removed]",
      "text/plain": [
       "<Figure size 432x288 with 1 Axes>"
      ]
     },
     "metadata": {},
     "output_type": "display_data"
    }
   ],
   "source": [
    "lens = []\n",
    "for t in text:\n",
    "    lens.append(len(t.split()))\n",
    "plt.hist(lens)"
   ]
  },
  {
   "cell_type": "markdown",
   "metadata": {},
   "source": [
    "# df 로 만들기"
   ]
  },
  {
   "cell_type": "code",
   "execution_count": 224,
   "metadata": {},
   "outputs": [],
   "source": [
    "aug_df = pd.DataFrame.from_dict({\n",
    "    'textID': textID,\n",
    "    'text': text,\n",
    "    'selected_text': selected_text,\n",
    "    'sentiment': sentiment,\n",
    "})"
   ]
  },
  {
   "cell_type": "code",
   "execution_count": 225,
   "metadata": {},
   "outputs": [
    {
     "data": {
      "text/plain": [
       "neutral     15446\n",
       "negative    12236\n",
       "positive    11809\n",
       "Name: sentiment, dtype: int64"
      ]
     },
     "execution_count": 225,
     "metadata": {},
     "output_type": "execute_result"
    }
   ],
   "source": [
    "aug_df.sentiment.value_counts()"
   ]
  },
  {
   "cell_type": "code",
   "execution_count": 227,
   "metadata": {},
   "outputs": [],
   "source": [
    "aug_df = aug_df.sample(frac=1, random_state=42).reset_index(drop=True)"
   ]
  },
  {
   "cell_type": "code",
   "execution_count": 228,
   "metadata": {},
   "outputs": [
    {
     "data": {
      "text/html": [
       "<div>\n",
       "<style scoped>\n",
       "    .dataframe tbody tr th:only-of-type {\n",
       "        vertical-align: middle;\n",
       "    }\n",
       "\n",
       "    .dataframe tbody tr th {\n",
       "        vertical-align: top;\n",
       "    }\n",
       "\n",
       "    .dataframe thead th {\n",
       "        text-align: right;\n",
       "    }\n",
       "</style>\n",
       "<table border=\"1\" class=\"dataframe\">\n",
       "  <thead>\n",
       "    <tr style=\"text-align: right;\">\n",
       "      <th></th>\n",
       "      <th>textID</th>\n",
       "      <th>text</th>\n",
       "      <th>selected_text</th>\n",
       "      <th>sentiment</th>\n",
       "    </tr>\n",
       "  </thead>\n",
       "  <tbody>\n",
       "    <tr>\n",
       "      <th>0</th>\n",
       "      <td>2049164206</td>\n",
       "      <td>Successfully tld dude tht I appreciate his hel...</td>\n",
       "      <td>Successfully tld dude tht I appreciate his hel...</td>\n",
       "      <td>positive</td>\n",
       "    </tr>\n",
       "    <tr>\n",
       "      <th>1</th>\n",
       "      <td>2060280508</td>\n",
       "      <td>just got home from work and going to lay down....</td>\n",
       "      <td>just got home from work and going to lay down....</td>\n",
       "      <td>negative</td>\n",
       "    </tr>\n",
       "    <tr>\n",
       "      <th>2</th>\n",
       "      <td>2192957746</td>\n",
       "      <td>good morning pumpkins!! have a PROSPEROUS day!!!</td>\n",
       "      <td>good morning pumpkins!! have a PROSPEROUS day!!!</td>\n",
       "      <td>positive</td>\n",
       "    </tr>\n",
       "    <tr>\n",
       "      <th>3</th>\n",
       "      <td>1754078454</td>\n",
       "      <td>I hate dropping peeps off at the airport</td>\n",
       "      <td>I hate dropping peeps off at the airport</td>\n",
       "      <td>negative</td>\n",
       "    </tr>\n",
       "    <tr>\n",
       "      <th>4</th>\n",
       "      <td>2051208876</td>\n",
       "      <td>What's everyone doing 2moro? I'm going yardsal...</td>\n",
       "      <td>What's everyone doing 2moro? I'm going yardsal...</td>\n",
       "      <td>neutral</td>\n",
       "    </tr>\n",
       "    <tr>\n",
       "      <th>...</th>\n",
       "      <td>...</td>\n",
       "      <td>...</td>\n",
       "      <td>...</td>\n",
       "      <td>...</td>\n",
       "    </tr>\n",
       "    <tr>\n",
       "      <th>39486</th>\n",
       "      <td>1977656277</td>\n",
       "      <td>Is veryveryvery happy!</td>\n",
       "      <td>Is veryveryvery happy!</td>\n",
       "      <td>positive</td>\n",
       "    </tr>\n",
       "    <tr>\n",
       "      <th>39487</th>\n",
       "      <td>2185356423</td>\n",
       "      <td>says aga ko ngcng. it's a miracle! (LOL) GOOD ...</td>\n",
       "      <td>says aga ko ngcng. it's a miracle! (LOL) GOOD ...</td>\n",
       "      <td>positive</td>\n",
       "    </tr>\n",
       "    <tr>\n",
       "      <th>39488</th>\n",
       "      <td>2067519687</td>\n",
       "      <td>Got to go and fill in some form things for col...</td>\n",
       "      <td>Got to go and fill in some form things for col...</td>\n",
       "      <td>neutral</td>\n",
       "    </tr>\n",
       "    <tr>\n",
       "      <th>39489</th>\n",
       "      <td>2253655462</td>\n",
       "      <td>It would be ridiculously wonderful if the sun ...</td>\n",
       "      <td>It would be ridiculously wonderful if the sun ...</td>\n",
       "      <td>positive</td>\n",
       "    </tr>\n",
       "    <tr>\n",
       "      <th>39490</th>\n",
       "      <td>1991410321</td>\n",
       "      <td>The Sun is Blazing!! 'too bad about the exams!!</td>\n",
       "      <td>The Sun is Blazing!! 'too bad about the exams!!</td>\n",
       "      <td>negative</td>\n",
       "    </tr>\n",
       "  </tbody>\n",
       "</table>\n",
       "<p>39491 rows × 4 columns</p>\n",
       "</div>"
      ],
      "text/plain": [
       "           textID                                               text  \\\n",
       "0      2049164206  Successfully tld dude tht I appreciate his hel...   \n",
       "1      2060280508  just got home from work and going to lay down....   \n",
       "2      2192957746   good morning pumpkins!! have a PROSPEROUS day!!!   \n",
       "3      1754078454           I hate dropping peeps off at the airport   \n",
       "4      2051208876  What's everyone doing 2moro? I'm going yardsal...   \n",
       "...           ...                                                ...   \n",
       "39486  1977656277                             Is veryveryvery happy!   \n",
       "39487  2185356423  says aga ko ngcng. it's a miracle! (LOL) GOOD ...   \n",
       "39488  2067519687  Got to go and fill in some form things for col...   \n",
       "39489  2253655462  It would be ridiculously wonderful if the sun ...   \n",
       "39490  1991410321    The Sun is Blazing!! 'too bad about the exams!!   \n",
       "\n",
       "                                           selected_text sentiment  \n",
       "0      Successfully tld dude tht I appreciate his hel...  positive  \n",
       "1      just got home from work and going to lay down....  negative  \n",
       "2       good morning pumpkins!! have a PROSPEROUS day!!!  positive  \n",
       "3               I hate dropping peeps off at the airport  negative  \n",
       "4      What's everyone doing 2moro? I'm going yardsal...   neutral  \n",
       "...                                                  ...       ...  \n",
       "39486                             Is veryveryvery happy!  positive  \n",
       "39487  says aga ko ngcng. it's a miracle! (LOL) GOOD ...  positive  \n",
       "39488  Got to go and fill in some form things for col...   neutral  \n",
       "39489  It would be ridiculously wonderful if the sun ...  positive  \n",
       "39490    The Sun is Blazing!! 'too bad about the exams!!  negative  \n",
       "\n",
       "[39491 rows x 4 columns]"
      ]
     },
     "execution_count": 228,
     "metadata": {},
     "output_type": "execute_result"
    }
   ],
   "source": [
    "aug_df"
   ]
  },
  {
   "cell_type": "code",
   "execution_count": 230,
   "metadata": {},
   "outputs": [],
   "source": [
    "aug_df.to_csv('./dataset/sent140.csv', index=False)\n",
    "aug_df.to_csv('/home/jeinsong/senti_ext/dataset/sent140.csv', index=False)"
   ]
  },
  {
   "cell_type": "code",
   "execution_count": null,
   "metadata": {},
   "outputs": [],
   "source": []
  }
 ],
 "metadata": {
  "kernelspec": {
   "display_name": "Python 3",
   "language": "python",
   "name": "python3"
  },
  "language_info": {
   "codemirror_mode": {
    "name": "ipython",
    "version": 3
   },
   "file_extension": ".py",
   "mimetype": "text/x-python",
   "name": "python",
   "nbconvert_exporter": "python",
   "pygments_lexer": "ipython3",
   "version": "3.7.2"
  }
 },
 "nbformat": 4,
 "nbformat_minor": 2
}
